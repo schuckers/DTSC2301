{
 "cells": [
  {
   "cell_type": "markdown",
   "metadata": {},
   "source": [
    "The goal of this notebook is to look at relationships between two quantitative variables and be able to describe that relationship.\n"
   ]
  },
  {
   "cell_type": "code",
   "execution_count": 2,
   "metadata": {},
   "outputs": [],
   "source": [
    "# import pandas, numpy and matplotlib libraries\n",
    "import pandas as pd\n",
    "\n",
    "import matplotlib.pyplot as plt\n",
    "import numpy as np\n",
    "\n",
    "from matplotlib import colors\n"
   ]
  },
  {
   "cell_type": "markdown",
   "metadata": {},
   "source": [
    "### Graphical Summary: Scatterplot"
   ]
  },
  {
   "cell_type": "markdown",
   "metadata": {},
   "source": [
    "First we will import some data.\n",
    "\n",
    "Note that we have pull lots of data from the following directory: \n",
    "https://webpages.charlotte.edu/mschuck1/classes/DTSC2301/Data/\n",
    "\n",
    "(FYI clicking on that link won't show you anything since I've not made the directory public)"
   ]
  },
  {
   "cell_type": "code",
   "execution_count": 4,
   "metadata": {},
   "outputs": [],
   "source": [
    "CA_housing = pd.read_csv(\"https://webpages.charlotte.edu/mschuck1/classes/DTSC2301/Data/CA_housing.csv\")"
   ]
  },
  {
   "cell_type": "markdown",
   "metadata": {},
   "source": [
    "The data are orginally for geographic blocks of California so that each row is a summary from many households.\n",
    "\n",
    "The original source for the housing data is this link:\n",
    "https://www.dcc.fc.up.pt/~ltorgo/Regression/cal_housing.\n",
    "\n",
    "From that page: \"We collected information on the variables using all the block groups in California from the 1990 Cens us. In this sample a block group on average includes 1425.5 individuals living in a geographically co mpact area. Naturally, the geographical area included varies inversely with the population density. We computed distances among the centroids of each block group as measured in latitude and longitude. We excluded all the block groups reporting zero entries for the independent and dependent variables. T he final data contained 20,640 observations on 9 variables.\""
   ]
  },
  {
   "cell_type": "code",
   "execution_count": null,
   "metadata": {},
   "outputs": [],
   "source": [
    "penguins = pd.read_csv(\"https://webpages.charlotte.edu/mschuck1/classes/DTSC2301/Data/penguins.csv\", na_values=['NA'])\n",
    "# remove rows with missing data\n",
    "penguins.dropna(inplace=True)\n",
    "penguins.head()\n",
    "\n"
   ]
  },
  {
   "cell_type": "markdown",
   "metadata": {},
   "source": [
    "For the features in the _penguins_ DataFrame, "
   ]
  },
  {
   "cell_type": "code",
   "execution_count": null,
   "metadata": {},
   "outputs": [],
   "source": [
    "plt.scatter( penguins['flipper_length_mm'],penguins['body_mass_g'], color=\"blue\")\n",
    "\n",
    "# Add labels and title\n",
    "plt.xlabel('flipper length in mm')\n",
    "plt.ylabel('body mass in g ')\n",
    "plt.title('Plot of flipper length vs body mass')\n",
    "\n",
    "# Show the plot\n",
    "plt.show()"
   ]
  },
  {
   "cell_type": "markdown",
   "metadata": {},
   "source": [
    "How would you describe the relationship in the scatter plot we just made?"
   ]
  },
  {
   "cell_type": "markdown",
   "metadata": {},
   "source": []
  },
  {
   "cell_type": "code",
   "execution_count": null,
   "metadata": {},
   "outputs": [],
   "source": [
    "CA_housing.info()"
   ]
  },
  {
   "cell_type": "markdown",
   "metadata": {},
   "source": [
    "How many variables are in these data?  How do you know?\n",
    "\n"
   ]
  },
  {
   "cell_type": "markdown",
   "metadata": {},
   "source": [
    "Next we'll look at some univariable (one variable) summaries.\n",
    "\n",
    "Here is a graphical summary (histogram) of the variable _median income_"
   ]
  },
  {
   "cell_type": "code",
   "execution_count": null,
   "metadata": {},
   "outputs": [],
   "source": [
    "plt.hist(CA_housing['median_income'], color=\"green\")\n",
    "plt.xlabel('Median Income')\n",
    "plt.ylabel('Frequency')\n",
    "plt.title('Histogram')\n",
    "plt.show()"
   ]
  },
  {
   "cell_type": "markdown",
   "metadata": {},
   "source": [
    "What do you notice about the values for _median income_?  "
   ]
  },
  {
   "cell_type": "code",
   "execution_count": null,
   "metadata": {},
   "outputs": [],
   "source": [
    "# Create the scatter plot\n",
    "plt.scatter(CA_housing['median_income'], CA_housing['housing_median_age'], color=\"green\")\n",
    "\n",
    "# Add labels and title\n",
    "plt.xlabel('log median income')\n",
    "plt.ylabel('median house age')\n",
    "plt.title('Scatterplot')\n",
    "\n",
    "# Show the plot\n",
    "plt.show()"
   ]
  },
  {
   "cell_type": "markdown",
   "metadata": {},
   "source": [
    "Does there seem to be much of relationship there?\n",
    "\n"
   ]
  },
  {
   "cell_type": "code",
   "execution_count": null,
   "metadata": {},
   "outputs": [],
   "source": [
    "plt.scatter( CA_housing['population'],CA_housing['total_rooms'], color=\"blue\")\n",
    "\n",
    "# Add labels and title\n",
    "plt.xlabel('households')\n",
    "plt.ylabel('total rooms')\n",
    "plt.title('Scatterplot of households vs total rooms')\n",
    "\n",
    "# Show the plot\n",
    "plt.show()"
   ]
  },
  {
   "cell_type": "code",
   "execution_count": null,
   "metadata": {},
   "outputs": [],
   "source": [
    "plt.scatter( CA_housing['total_rooms'],CA_housing['total_bedrooms'], color=\"blue\", alpha=0.2)\n",
    "\n",
    "# Add labels and title\n",
    "plt.xlabel('total rooms')\n",
    "plt.ylabel('total bedrooms')\n",
    "plt.title('Scatterplot of total rooms vs total bedrooms')\n",
    "\n",
    "# Show the plot\n",
    "plt.show()"
   ]
  },
  {
   "cell_type": "markdown",
   "metadata": {},
   "source": [
    "One of the things that is hard to do is see all the points when they have lots of overlap.  Fortunately, we have some control over the scatterplot in _matplotlib_.\n",
    "\n",
    "In the code below in the _scatter_ command, I've added the option for _marker_ and _alpha_ to go with the _color_ option that was already there.  \n",
    "\n",
    "_marker_ changes the plot character at each point.  In this case the default as we saw above is a circle, while the option _marker=\"*\"_ changes the plot character to a star.  \n",
    "\n",
    "_alpha_ changes the level of transparency of each point so you can see if there are other points below.  Values of _alpha_ range from  0 to 1 with smaller values being more transparency.  "
   ]
  },
  {
   "cell_type": "code",
   "execution_count": null,
   "metadata": {},
   "outputs": [],
   "source": [
    "plt.scatter(CA_housing['total_rooms'], CA_housing['total_bedrooms'], color=\"blue\", marker = \"*\", alpha=0.1)\n",
    "\n",
    "# Add labels and title\n",
    "plt.xlabel('population')\n",
    "plt.ylabel('total_bedrooms')\n",
    "plt.title('Scatterplot of population vs total bedrooms')\n",
    "\n",
    "# Show the plot\n",
    "plt.show()"
   ]
  },
  {
   "cell_type": "markdown",
   "metadata": {},
   "source": [
    "How would you describe the plot above?\n",
    "\n",
    "Remark on the shape, direction, strength, and possible outliers "
   ]
  },
  {
   "cell_type": "markdown",
   "metadata": {},
   "source": [
    "### Linear Regression\n",
    "\n",
    "Linear regression is a modelling approach that assumes a linear shape to a relationship. \n",
    "\n",
    "We are going to _start_ with what is known as a simple linear regression and the word simple comes from the fact that there is just a single predictor/explanatory variable/feature.  A linear regression fits a line, sometimes called a line of best fit, to the $x$ and $y$ points in the data.  "
   ]
  },
  {
   "cell_type": "code",
   "execution_count": null,
   "metadata": {},
   "outputs": [],
   "source": [
    "plt.scatter( penguins['flipper_length_mm'],penguins['body_mass_g'], color=\"blue\")\n",
    "\n",
    "# Add labels and title\n",
    "plt.xlabel('flipper length in mm')\n",
    "plt.ylabel('body mass in g ')\n",
    "plt.title('Plot of flipper length vs body mass')\n",
    "\n",
    "# Add regression line to plot\n",
    "plt.plot(x, 50.1533*x + -5872.0927 , color='red')\n",
    "\n",
    "# Set the x-axis and the y-axis limits\n",
    "plt.xlim(170, 240)\n",
    "plt.ylim(2500,6500)\n",
    "# Show plot\n",
    "plt.show()"
   ]
  },
  {
   "cell_type": "code",
   "execution_count": null,
   "metadata": {},
   "outputs": [],
   "source": [
    "import statsmodels.api as sm\n",
    "\n",
    "#define response variable\n",
    "y = penguins['body_mass_g']\n",
    "\n",
    "#define predictor variables\n",
    "x = penguins[['flipper_length_mm']]\n",
    "\n",
    "#add constant to predictor variables\n",
    "x = sm.add_constant(x)\n",
    "\n",
    "#fit linear regression model\n",
    "model = sm.OLS(y, x).fit()\n",
    "\n",
    "#view model summary\n",
    "print(model.summary())"
   ]
  },
  {
   "cell_type": "markdown",
   "metadata": {},
   "source": [
    "Tasks:\n",
    "\n",
    "1.  For the California Housing data (CA_housing.csv), plot and describe the relationship between  "
   ]
  }
 ],
 "metadata": {
  "kernelspec": {
   "display_name": "base",
   "language": "python",
   "name": "python3"
  },
  "language_info": {
   "codemirror_mode": {
    "name": "ipython",
    "version": 3
   },
   "file_extension": ".py",
   "mimetype": "text/x-python",
   "name": "python",
   "nbconvert_exporter": "python",
   "pygments_lexer": "ipython3",
   "version": "3.12.7"
  }
 },
 "nbformat": 4,
 "nbformat_minor": 2
}
