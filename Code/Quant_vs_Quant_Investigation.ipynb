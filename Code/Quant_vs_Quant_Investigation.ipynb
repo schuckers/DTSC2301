{
 "cells": [
  {
   "cell_type": "markdown",
   "metadata": {},
   "source": [
    "The goal of this notebook is to look at relationships between two quantitative variables and be able to describe that relationship.\n"
   ]
  },
  {
   "cell_type": "code",
   "execution_count": 41,
   "metadata": {},
   "outputs": [],
   "source": [
    "# import pandas, numpy and matplotlib libraries\n",
    "import pandas as pd\n",
    "\n",
    "import matplotlib.pyplot as plt\n",
    "import numpy as np\n",
    "\n",
    "from matplotlib import colors\n"
   ]
  },
  {
   "cell_type": "markdown",
   "metadata": {},
   "source": [
    "### Graphical Summary: Scatterplot"
   ]
  },
  {
   "cell_type": "markdown",
   "metadata": {},
   "source": [
    "First we will import some data.\n",
    "\n",
    "Note that we have pull lots of data from the following directory: \n",
    "https://webpages.charlotte.edu/mschuck1/classes/DTSC2301/Data/\n",
    "\n",
    "(FYI clicking on that link won't show you anything since I've not made the directory public)"
   ]
  },
  {
   "cell_type": "markdown",
   "metadata": {},
   "source": [
    "We will be using the penguins data again."
   ]
  },
  {
   "cell_type": "code",
   "execution_count": null,
   "metadata": {},
   "outputs": [],
   "source": [
    "penguins = pd.read_csv(\"https://webpages.charlotte.edu/mschuck1/classes/DTSC2301/Data/penguins.csv\", na_values=['NA'])\n",
    "# remove rows with missing data\n",
    "penguins.dropna(inplace=True)\n",
    "penguins.head()\n",
    "\n"
   ]
  },
  {
   "cell_type": "markdown",
   "metadata": {},
   "source": [
    "How many variables/features are in these data?  How do you know?\n",
    "\n"
   ]
  },
  {
   "cell_type": "markdown",
   "metadata": {},
   "source": [
    "Next we make a scatterplot for the Penguins data for two variables *flipper_length_mm* and *body_mass_g*."
   ]
  },
  {
   "cell_type": "code",
   "execution_count": null,
   "metadata": {},
   "outputs": [],
   "source": [
    "plt.scatter( penguins['flipper_length_mm'],penguins['body_mass_g'], color=\"blue\")\n",
    "\n",
    "# Add labels and title\n",
    "plt.xlabel('flipper length in mm')\n",
    "plt.ylabel('body mass in g ')\n",
    "plt.title('Plot of flipper length vs body mass')\n",
    "\n",
    "# Show the plot\n",
    "plt.show()"
   ]
  },
  {
   "cell_type": "markdown",
   "metadata": {},
   "source": [
    "How would you describe the relationship in the scatter plot we just made?"
   ]
  },
  {
   "cell_type": "markdown",
   "metadata": {},
   "source": [
    "The relationship between body mass and flipper length of these penguins seems to be linear, positive and moderately strong."
   ]
  },
  {
   "cell_type": "markdown",
   "metadata": {},
   "source": [
    "Let's return to the Ames Housing data and look at some relationships from those data."
   ]
  },
  {
   "cell_type": "code",
   "execution_count": null,
   "metadata": {},
   "outputs": [],
   "source": [
    "# read in the data to dataframe called ames\n",
    "ames = pd.read_csv(\"https://webpages.charlotte.edu/mschuck1/classes/DTSC2301/Data/Ames_house_prices.csv\", na_values=['?'])\n",
    "# replace the ? in the data with NaN for missing values\n",
    "ames.replace([' ?'],np.nan)\n",
    "# show information about the dataframe\n",
    "ames.info()"
   ]
  },
  {
   "cell_type": "markdown",
   "metadata": {},
   "source": [
    "Here's a scatterplot for Garage Area vs Sale Price."
   ]
  },
  {
   "cell_type": "code",
   "execution_count": null,
   "metadata": {},
   "outputs": [],
   "source": [
    "plt.scatter( ames['GarageArea'],ames['SalePrice'], color=\"green\")\n",
    "\n",
    "# Add labels and title\n",
    "plt.xlabel('Garage Area')\n",
    "plt.ylabel('Sale Price')\n",
    "plt.title('Sale Price vs Garage Area for Ames Iowa')\n",
    "\n",
    "# Show the plot\n",
    "plt.show()"
   ]
  },
  {
   "cell_type": "markdown",
   "metadata": {},
   "source": [
    "The relationship here is positive, non-linear, and moderate to weak."
   ]
  },
  {
   "cell_type": "code",
   "execution_count": null,
   "metadata": {},
   "outputs": [],
   "source": [
    "plt.scatter( ames['GrLivArea'],ames['SalePrice'], color=\"green\")\n",
    "\n",
    "# Add labels and title\n",
    "plt.xlabel('Above Ground Living Area')\n",
    "plt.ylabel('Sale Price')\n",
    "plt.title('Sale Price vs Living Area for Ames Iowa')\n",
    "\n",
    "# Show the plot\n",
    "plt.show()"
   ]
  },
  {
   "cell_type": "markdown",
   "metadata": {},
   "source": [
    "The relationship in the above scatterplot between living area and sales price seems to be positive, linear (though maybe slightly non-linear) and moderate with a couple of outliers in the bottom right with very large living area but relatively small sales prices."
   ]
  },
  {
   "cell_type": "code",
   "execution_count": null,
   "metadata": {},
   "outputs": [],
   "source": [
    "plt.scatter(ames['GarageArea'], ames['SalePrice'], color=\"green\")\n",
    "\n",
    "# Add labels and title\n",
    "plt.xlabel('Garage Area in Square Feet')\n",
    "plt.ylabel('Sale Price')\n",
    "plt.title('Sale Price vs Garage Area for Ames Iowa')\n",
    "\n",
    "# Show the plot\n",
    "plt.show()"
   ]
  },
  {
   "cell_type": "markdown",
   "metadata": {},
   "source": [
    "The above graph seems to show a non-linear, positive, moderate relationship wtih some outliers for the relationship between the Garage Area of a home and the Sale Price of a home."
   ]
  },
  {
   "cell_type": "markdown",
   "metadata": {},
   "source": [
    "### Linear Regression\n",
    "\n",
    "Linear regression is a modelling approach that assumes a linear shape to a relationship. \n",
    "\n",
    "We are going to _start_ with what is known as a simple linear regression and the word simple comes from the fact that there is just a single predictor/explanatory variable/feature.  A linear regression fits a line, sometimes called a line of best fit, to the $x$ and $y$ points in the data.  "
   ]
  },
  {
   "cell_type": "code",
   "execution_count": null,
   "metadata": {},
   "outputs": [],
   "source": [
    "plt.scatter( penguins['flipper_length_mm'],penguins['body_mass_g'], color=\"blue\")\n",
    "\n",
    "# Add labels and title\n",
    "plt.xlabel('flipper length in mm')\n",
    "plt.ylabel('body mass in g ')\n",
    "plt.title('Plot of flipper length vs body mass')\n",
    "\n",
    "#create an array of value from 100 to 300\n",
    "xseq = np.linspace(100, 300, num=100)\n",
    "\n",
    "# Add regression line to plot\n",
    "plt.plot(xseq, -5872.0927 + 50.1533*xseq , color='red')\n",
    "\n",
    "# Set the x-axis and the y-axis limits\n",
    "plt.xlim(170, 240)\n",
    "plt.ylim(2500,6500)\n",
    "# Show plot\n",
    "plt.show()"
   ]
  },
  {
   "cell_type": "markdown",
   "metadata": {},
   "source": [
    "The line that we added above has the following equation $\\hat{y} = -5872.0927 + 50.1533*X$.  So our y-intercept is estimated to be $-5872.1$ and the slope is estimated to be $50.2$. \n",
    "\n",
    "We interpret the y-intercept to be the predicted body mass of a penguin who has a flipper length of zero mm.  Note that this does not make much sense as we'll never have a real penguin with a flipper length of zero.  \n",
    "\n",
    "An estimated slope of $50.2$ means that for every additional millimeter of flipper length, we predict that the body mass of a penguin will increase by $50.2$ grams.\n",
    "\n",
    "In the next cell we cover show how to get the estimates for the slope and the intercept."
   ]
  },
  {
   "cell_type": "code",
   "execution_count": null,
   "metadata": {},
   "outputs": [],
   "source": [
    "\n",
    "\n",
    "#define response variable\n",
    "y = penguins['body_mass_g']\n",
    "\n",
    "#define predictor variables\n",
    "x = penguins['flipper_length_mm']\n",
    "\n",
    "# Fit linear regression via least squares with numpy.polyfit\n",
    "# It returns an slope (beta_1) and intercept (beta_0)\n",
    "# deg=1 means linear fit (i.e. polynomial of degree 1)\n",
    "beta_1, beta_0 = np.polyfit(x, y, deg=1)\n",
    "\n",
    "print(beta_0)\n",
    "print(beta_1)\n",
    "\n"
   ]
  },
  {
   "cell_type": "markdown",
   "metadata": {},
   "source": [
    "#### Tasks\n",
    "\n",
    "1.  Make a scatterplot of penguin *bill_length_mm* and *body_mass_g* and describe the relationship\n",
    "\n",
    "2. Fit a regression line to predict *body_mass_g* from *bill_length_mm* using the Penguin data and interpret the estimated intercept and slope."
   ]
  }
 ],
 "metadata": {
  "kernelspec": {
   "display_name": "Python 3",
   "language": "python",
   "name": "python3"
  },
  "language_info": {
   "codemirror_mode": {
    "name": "ipython",
    "version": 3
   },
   "file_extension": ".py",
   "mimetype": "text/x-python",
   "name": "python",
   "nbconvert_exporter": "python",
   "pygments_lexer": "ipython3",
   "version": "3.13.1"
  }
 },
 "nbformat": 4,
 "nbformat_minor": 2
}
