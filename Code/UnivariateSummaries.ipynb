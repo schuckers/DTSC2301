{
 "cells": [
  {
   "cell_type": "markdown",
   "metadata": {},
   "source": [
    "### Looking at Distributions for Quantitative Variable\n",
    "\n",
    "There are several tools for looking at the distribution of a single quantitative variable.  A distribution is the values that a feature/variable takes and how often it takes those values. Below we will focus on graphical summaries and numerical summaries.  The goal of any graphical summary is to get a quick understanding of our data.\n",
    "\n"
   ]
  },
  {
   "cell_type": "code",
   "execution_count": 19,
   "metadata": {},
   "outputs": [],
   "source": [
    "# Load in packages we need for doing graphical representations.  \n",
    "from pathlib import Path\n",
    "import pandas as pd\n",
    "\n",
    "import matplotlib.pyplot as plt\n",
    "import numpy as np\n",
    "\n",
    "from matplotlib import colors\n",
    "\n",
    "import scipy.stats as stats\n"
   ]
  },
  {
   "cell_type": "markdown",
   "metadata": {},
   "source": [
    "We will be using the Ames Housing Dataset which is part of a competition to predict housing prices\n",
    "https://www.kaggle.com/datasets/shashanknecrothapa/ames-housing-dataset\n",
    "\n",
    "The ultimate goal of the project is to predict the sales price of a house in Ames, IA based upon various measurements/features recorded for the house.\n",
    "\n",
    "Note that these data have some missing values for some of the features/variables."
   ]
  },
  {
   "cell_type": "code",
   "execution_count": null,
   "metadata": {},
   "outputs": [],
   "source": [
    "# read in the data to dataframe called ames\n",
    "ames = pd.read_csv(\"https://webpages.charlotte.edu/mschuck1/classes/DTSC2301/Data/Ames_house_prices.csv\", na_values=['?'])\n",
    "# replace the ? in the data with NaN for missing values\n",
    "ames.replace([' ?'],np.NaN)\n",
    "# show information about the dataframe\n",
    "ames.info()"
   ]
  },
  {
   "cell_type": "markdown",
   "metadata": {},
   "source": [
    "#### Histograms\n",
    "We will start with histograms for getting graphical summaries of the distribution of a quantitative variable.  A histogram is a series of bars whose height is proportional to the values that fall within the bins that go with the bars.  Bars and bins must be of equal widths."
   ]
  },
  {
   "cell_type": "code",
   "execution_count": null,
   "metadata": {},
   "outputs": [],
   "source": [
    "# make a green histogram\n",
    "plt.hist(ames['SalePrice'], color=\"green\")\n",
    "plt.xlabel('Price')\n",
    "plt.ylabel('Frequency')\n",
    "plt.title('Histogram of House Price (Ames, IA)')\n",
    "plt.show()\n",
    "\n"
   ]
  },
  {
   "cell_type": "markdown",
   "metadata": {},
   "source": [
    "The above plot is right skewed (long right tail) and it is unimodal.  There are possible outliers in right tail.\n",
    "\n"
   ]
  },
  {
   "cell_type": "markdown",
   "metadata": {},
   "source": [
    "#### Boxplots\n",
    "A boxplot is another graphical summary for visualizing a distribution.  A boxplot consists of five parallel lines.  The five lines are defined by the minimum, the 25th percentile, the median (50th percentile), the 75th percentile and the maximum.  The box of a _boxplot_ represents the middle 50%, between the 75th percentile and the 25th percentile, of the data.  Boxplots generally also display outliers as points outside the five lines.  When outliers are present, the minimum and maximum are replaced among the lines by the smallest and largest values, respectively, that are *not* outliers.   "
   ]
  },
  {
   "cell_type": "code",
   "execution_count": null,
   "metadata": {},
   "outputs": [],
   "source": [
    "# create a boxplot of SalePrice\n",
    "plt.boxplot(ames['SalePrice'])\n",
    "plt.title('Boxplot of House Prices (Ames, IA)')\n",
    "plt.show()"
   ]
  },
  {
   "cell_type": "code",
   "execution_count": null,
   "metadata": {},
   "outputs": [],
   "source": [
    "# create a boxplot of SalePrice with means added\n",
    "plt.boxplot(ames['SalePrice'], showmeans=True)\n",
    "plt.title('Boxplot of House Price (Ames, IA)')\n",
    "plt.show()"
   ]
  },
  {
   "cell_type": "markdown",
   "metadata": {},
   "source": [
    "#### Violinplots\n",
    "One of the drawbacks of a boxplot is that it does not show the shape of the distribution.  A violinplot is similar to a boxplot but it combines the shape of a histogram with the form of the boxplot. "
   ]
  },
  {
   "cell_type": "code",
   "execution_count": 31,
   "metadata": {},
   "outputs": [
    {
     "data": {
      "image/png": "[encoded data removed]",
      "text/plain": [
       "<Figure size 640x480 with 1 Axes>"
      ]
     },
     "metadata": {},
     "output_type": "display_data"
    }
   ],
   "source": [
    "# here we use two options that add the median and the extrema (min, max) to the plot\n",
    "plt.violinplot(ames['SalePrice'],showmedians=True, showextrema=True)\n",
    "plt.ylabel('Price')\n",
    "plt.show()\n"
   ]
  },
  {
   "cell_type": "markdown",
   "metadata": {},
   "source": [
    "Let's look at another variable GrLivArea which is 'Above grade (ground) living area square feet'.  \n"
   ]
  },
  {
   "cell_type": "code",
   "execution_count": null,
   "metadata": {},
   "outputs": [],
   "source": [
    "# look at another feature GrLivArea and add max, min, median, 25th and 75th percentiles\n",
    "plt.violinplot(ames['GrLivArea'], showextrema=True,showmedians=True,quantiles=[0.25,0.75])\n",
    "plt.ylabel('Lot Area')\n",
    "plt.show()\n"
   ]
  },
  {
   "cell_type": "markdown",
   "metadata": {},
   "source": [
    "Here's the code to make the histogram for the same feature, GrLivArea."
   ]
  },
  {
   "cell_type": "code",
   "execution_count": null,
   "metadata": {},
   "outputs": [],
   "source": [
    "plt.hist(ames['GrLivArea'])\n",
    "# add a label to the y-axis\n",
    "plt.ylabel('Area in Square Feet')\n",
    "plt.show()"
   ]
  },
  {
   "cell_type": "markdown",
   "metadata": {},
   "source": [
    "Next we will make a histogram for _GarageYrBlt_ which I think means the year that the garage was built.  The code below is for making this histogram but the X-axis is muddled."
   ]
  },
  {
   "cell_type": "code",
   "execution_count": null,
   "metadata": {},
   "outputs": [],
   "source": [
    "plt.hist(ames['GarageYrBlt'])\n",
    "plt.xlabel('Year')\n",
    "plt.show()"
   ]
  },
  {
   "cell_type": "markdown",
   "metadata": {},
   "source": [
    "So we'll start by getting the smallest (_np.min_) and the largest (_np.max_) values from this feature.  "
   ]
  },
  {
   "cell_type": "code",
   "execution_count": 38,
   "metadata": {},
   "outputs": [
    {
     "name": "stdout",
     "output_type": "stream",
     "text": [
      "1900.0\n",
      "2010.0\n"
     ]
    }
   ],
   "source": [
    "print(np.min(ames['GarageYrBlt']))\n",
    "print(np.max(ames['GarageYrBlt']))\n"
   ]
  },
  {
   "cell_type": "code",
   "execution_count": null,
   "metadata": {},
   "outputs": [],
   "source": [
    "#In the plt.xticks line below we add the tick mark values that we want\n",
    "plt.hist(ames['GarageYrBlt'])\n",
    "plt.xlabel('Year')\n",
    "#plt.ylabel('Median Age')\n",
    "#plt.title('Histogram')\n",
    "plt.xticks([1900, 1925, 1950, 1975, 2000, 2025])\n",
    "plt.show()\n"
   ]
  },
  {
   "cell_type": "markdown",
   "metadata": {},
   "source": [
    "#### Numerical summaries\n",
    "There are generally three types of numerical summaries for quantitative variables\n",
    "1. measures of center: mean, median\n",
    "2. measures of spread: range, standard deviation, interquartile range\n",
    "3. measure of location: percentiles, z-scores"
   ]
  },
  {
   "cell_type": "code",
   "execution_count": null,
   "metadata": {},
   "outputs": [],
   "source": [
    "# measures of center\n",
    "\n",
    "print(\"Mean of Sale Price is \", np.mean(ames['SalePrice']))\n",
    "print(\"Median of Sale Price is \", np.median(ames['SalePrice']))\n",
    "# measures of spread\n",
    "print(\"Standard deviation of Sale Price is \", np.std(ames['SalePrice']))\n",
    "print(\"The interquartile range of Sale Price is \", np.subtract(*np.percentile(ames['SalePrice'], [75, 25])))\n",
    "# measures of location\n",
    "print(\"A house with a Sale Price of 150,000 is the \", stats.percentileofscore(ames['SalePrice'], 150000), \"th percentile\")\n",
    "mean_sale = np.mean(ames['SalePrice'])\n",
    "sd_sale = np.std(ames['SalePrice'])\n",
    "print(\"A house with a Sale Price of 150,000 has a z-score of \", (150000-mean_sale)/sd_sale)"
   ]
  },
  {
   "cell_type": "code",
   "execution_count": 30,
   "metadata": {},
   "outputs": [
    {
     "name": "stdout",
     "output_type": "stream",
     "text": [
      "Mean of Sale Price is  180921.2\n",
      "Median of Sale Price is  163000.0\n",
      "Standard deviation of Sale Price is  79415.29\n",
      "The interquartile range of Sale Price is  84025.0\n",
      "A house with a Sale Price of 150,000 is the  42.29 th percentile\n",
      "A house with a Sale Price of 150,000 has a z-score of  -0.389\n"
     ]
    }
   ],
   "source": [
    "# all of the above but with rounding\n",
    "# measures of center\n",
    "print(\"Mean of Sale Price is \", np.round(np.mean(ames['SalePrice']),2))\n",
    "print(\"Median of Sale Price is \", np.median(ames['SalePrice']))\n",
    "# measures of spread\n",
    "print(\"Standard deviation of Sale Price is \", np.round(np.std(ames['SalePrice']),2))\n",
    "print(\"The interquartile range of Sale Price is \", np.subtract(*np.percentile(ames['SalePrice'], [75, 25])))\n",
    "# measures of location\n",
    "print(\"A house with a Sale Price of 150,000 is the \", np.round(stats.percentileofscore(ames['SalePrice'], 150000),2), \"th percentile\")\n",
    "# for getting the z-score we need to store the mean and standard deviation\n",
    "mean_sale = np.mean(ames['SalePrice'])\n",
    "sd_sale = np.std(ames['SalePrice'])\n",
    "print(\"A house with a Sale Price of 150,000 has a z-score of \", np.round((150000-mean_sale)/sd_sale,3))"
   ]
  },
  {
   "cell_type": "markdown",
   "metadata": {},
   "source": [
    "## Tasks 1\n",
    "\n",
    "+  Make a histograph for the variable _Garage Area_ which is the 'Size of garage in square feet' with tick marks at 300, 600, 900, 1200 and 1500 square feet.\n",
    "\n",
    "+ Make  a violinplot for the variable _Garage Area_ which is the 'Size of garage in square feet'.  What is the median size of a garage among these houses?  \n",
    "\n",
    "+ For the two graphs you made in the previous part, which do you prefer and why?  If you were presenting information about _Garage Area_ to a realtor which graph would you use and why?\n",
    "\n",
    "+ Create a boxplot for the variable _Year Built_.\n",
    "\n",
    "+ Find the z-score for a house with a _Garage Area_ of 600 square feet.  Interpret that value.\n",
    "\n",
    "+ Write a one paragraph summary of the distribution of the variable _TotTms AbvGrd_ (Total rooms above grade (does not include bathrooms)).  Choose an appropriate graph to go with your paragraph."
   ]
  }
 ],
 "metadata": {
  "kernelspec": {
   "display_name": "base",
   "language": "python",
   "name": "python3"
  },
  "language_info": {
   "codemirror_mode": {
    "name": "ipython",
    "version": 3
   },
   "file_extension": ".py",
   "mimetype": "text/x-python",
   "name": "python",
   "nbconvert_exporter": "python",
   "pygments_lexer": "ipython3",
   "version": "3.12.7"
  }
 },
 "nbformat": 4,
 "nbformat_minor": 2
}
