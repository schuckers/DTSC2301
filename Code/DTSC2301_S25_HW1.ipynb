{
  "cells": [
    {
      "cell_type": "markdown",
      "metadata": {
        "id": "izKqG6OvCt21"
      },
      "source": [
        "## DTSC 2301 Spring 2025 Homework #1\n",
        "\n",
        "Turn in your assignment via Gradescope\n",
        "\n",
        "Due 1/17/25, 11: 59pm\n",
        "\n",
        "For this assignment you may *not* use any generative AI and you may only use python commands and code we used in class."
      ]
    },
    {
      "cell_type": "markdown",
      "metadata": {
        "id": "_-BP6mfTCt23"
      },
      "source": [
        "#### Question 1\n",
        "Read in the Penguins dataset (https://webpages.charlotte.edu/mschuck1/classes/DTSC2301/Data/penguins.csv).  Create a violinplot for penguin body mass."
      ]
    },
    {
      "cell_type": "markdown",
      "metadata": {
        "id": "_WPg6MJAD-0P"
      },
      "source": [
        "#### Question 2\n",
        "Again using the data on body mass of penguins, create and interpret a 95% confidence interval for the mean body weight of a penguin based upon this sample.  "
      ]
    },
    {
      "cell_type": "markdown",
      "metadata": {
        "id": "QDh-l3nRCt24"
      },
      "source": [
        "#### Question 3\n",
        "Using the Ames Housing Data (https://webpages.charlotte.edu/mschuck1/classes/DTSC2301/Data/Ames_house_prices.csv), create a 92% confidence interval for the mean above grade (ground) living area square feet (GrLivArea).  Interpret this interval in the context of these data."
      ]
    },
    {
      "cell_type": "markdown",
      "metadata": {
        "id": "9RFOSK4WCt25"
      },
      "source": [
        "#### Question 4\n",
        "Using the Ames Housing Data, create a 90% confidence interval for the standard deviation of Sale Price using the bootstrap.  Interpret this interval in the context of these data."
      ]
    },
    {
      "cell_type": "markdown",
      "metadata": {
        "id": "cfr3iDgzCt26"
      },
      "source": [
        "#### Question 5\n",
        "Write a short 80-120 word paragraph explaining how data scientists should ensure that the analysis and its interpretation that you made about the Ames Housing Data do not inadvertently reinforce bias or inequalities in the housing market.\n"
      ]
    }
  ],
  "metadata": {
    "colab": {
      "provenance": []
    },
    "kernelspec": {
      "display_name": "base",
      "language": "python",
      "name": "python3"
    },
    "language_info": {
      "codemirror_mode": {
        "name": "ipython",
        "version": 3
      },
      "file_extension": ".py",
      "mimetype": "text/x-python",
      "name": "python",
      "nbconvert_exporter": "python",
      "pygments_lexer": "ipython3",
      "version": "3.12.7"
    }
  },
  "nbformat": 4,
  "nbformat_minor": 0
}
