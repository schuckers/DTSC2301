{
 "cells": [
  {
   "cell_type": "markdown",
   "metadata": {},
   "source": [
    "### Notes on DTSC 2301 Project 2\n",
    "\n",
    "+ The cross validation should be done on the model in part *C*.\n",
    "\n",
    "+ Each group need only turn in a single project.\n",
    "\n",
    "+ A knowledgeable boss means that you don't have to explain what each variable means as part of your write-up.\n",
    "\n",
    "+ You have data for prediction in Part C and you are given values for each variable.  You don't have to use all of that data.  \n",
    "\n",
    "+ The values for _orientation_ are the orientation of the glazing and they take the values uniform (coded as 1), north (coded as 2), east (coded as 3), south (coded as 4), and west (coded as 5). \n",
    "\n",
    "+ For the 'Area' variables, they are in meters-squared and 'Height' is in meters. \n",
    "\n",
    "+ Relative Compactness of a building is calculated by dividing the building's envelope surface area by its volume.\n",
    "\n",
    "+ Heating Load is in kilowatts/hour."
   ]
  }
 ],
 "metadata": {
  "kernelspec": {
   "display_name": "Python 3",
   "language": "python",
   "name": "python3"
  },
  "language_info": {
   "name": "python",
   "version": "3.13.1"
  }
 },
 "nbformat": 4,
 "nbformat_minor": 2
}
