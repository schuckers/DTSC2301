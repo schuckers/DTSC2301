{
 "cells": [
  {
   "cell_type": "markdown",
   "metadata": {},
   "source": [
    "### Notes on DTSC 2301 Project 2\n",
    "\n",
    "1. The cross validation should be done on the model in part *D*.\n",
    "\n",
    "2. Each group need only turn in a single project.\n",
    "\n",
    "3. A knowledgeable boss means that you don't have to explain what each variable means as part of your write-up.\n",
    "\n",
    "4. ZZZ Explain variables ZZZ\n",
    "\n",
    "5. You have data for prediction in Part D gives values for each variable.  You don't have to use all of that data.  \n",
    "\n",
    "6. The values for _orientation_ are the orientation of the glazing and they take the values uniform (coded as 1), north (coded as 2), east (coded as 3), south (coded as 4), and west (coded as 5). \n",
    "\n",
    "7. For the 'Area' variables, they are in meters-squared and 'Height' is in meters. "
   ]
  }
 ],
 "metadata": {
  "kernelspec": {
   "display_name": "Python 3",
   "language": "python",
   "name": "python3"
  },
  "language_info": {
   "name": "python",
   "version": "3.13.1"
  }
 },
 "nbformat": 4,
 "nbformat_minor": 2
}
