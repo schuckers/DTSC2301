{
 "cells": [
  {
   "cell_type": "markdown",
   "metadata": {},
   "source": [
    "## Statistical Inference\n",
    "\n",
    "The primary tools of statistical inference are confidence intervals and hypothesis tests.  In this notebook, we will show how to calculate values necessary for making the relevant calculations.  Again we will be working with the Ames, IA housing data.  \n"
   ]
  },
  {
   "cell_type": "code",
   "execution_count": 1,
   "metadata": {},
   "outputs": [],
   "source": [
    "#Import the relevant libraries for the code below\n",
    "import scipy.stats as st \n",
    "\n",
    "from pathlib import Path\n",
    "import pandas as pd\n",
    "\n",
    "import matplotlib.pyplot as plt\n",
    "import numpy as np\n",
    "\n",
    "from matplotlib import colors"
   ]
  },
  {
   "cell_type": "code",
   "execution_count": 2,
   "metadata": {},
   "outputs": [
    {
     "ename": "NameError",
     "evalue": "name 'pd' is not defined",
     "output_type": "error",
     "traceback": [
      "\u001b[1;31m---------------------------------------------------------------------------\u001b[0m",
      "\u001b[1;31mNameError\u001b[0m                                 Traceback (most recent call last)",
      "Cell \u001b[1;32mIn[2], line 2\u001b[0m\n\u001b[0;32m      1\u001b[0m \u001b[38;5;66;03m# read in the data to dataframe called ames\u001b[39;00m\n\u001b[1;32m----> 2\u001b[0m ames \u001b[38;5;241m=\u001b[39m pd\u001b[38;5;241m.\u001b[39mread_csv(\u001b[38;5;124m\"\u001b[39m\u001b[38;5;124mhttps://webpages.charlotte.edu/mschuck1/classes/DTSC2301/Data/Ames_house_prices.csv\u001b[39m\u001b[38;5;124m\"\u001b[39m, na_values\u001b[38;5;241m=\u001b[39m[\u001b[38;5;124m'\u001b[39m\u001b[38;5;124m?\u001b[39m\u001b[38;5;124m'\u001b[39m])\n\u001b[0;32m      3\u001b[0m \u001b[38;5;66;03m# replace the ? in the data with NaN for missing values\u001b[39;00m\n\u001b[0;32m      4\u001b[0m ames\u001b[38;5;241m.\u001b[39mreplace([\u001b[38;5;124m'\u001b[39m\u001b[38;5;124m ?\u001b[39m\u001b[38;5;124m'\u001b[39m],np\u001b[38;5;241m.\u001b[39mNaN)\n",
      "\u001b[1;31mNameError\u001b[0m: name 'pd' is not defined"
     ]
    }
   ],
   "source": [
    "# read in the data to dataframe called ames\n",
    "ames = pd.read_csv(\"https://webpages.charlotte.edu/mschuck1/classes/DTSC2301/Data/Ames_house_prices.csv\", na_values=['?'])\n",
    "# replace the ? in the data with NaN for missing values\n",
    "ames.replace([' ?'],np.NaN)\n",
    "# show information about the dataframe\n",
    "ames.info()"
   ]
  },
  {
   "cell_type": "markdown",
   "metadata": {},
   "source": [
    "### For mean of a population\n",
    "\n",
    "The focus of the Ames, IA data set is the prediction of _SalePrice_ so we will focus on that here.  \n",
    "\n",
    "So we will assume we have a random sample from a population and we want to make some decision about the mean of the full population.  "
   ]
  },
  {
   "cell_type": "code",
   "execution_count": null,
   "metadata": {},
   "outputs": [],
   "source": [
    "\n",
    "sale_price = ames['SalePrice']\n",
    "# create 95% confidence interval \n",
    "st.t.interval(alpha=0.95, \n",
    "              df=len(gfg_data)-1, \n",
    "              loc=np.mean(gfg_data),  \n",
    "              scale=st.sem(gfg_data)) "
   ]
  },
  {
   "cell_type": "markdown",
   "metadata": {},
   "source": [
    "### Inference for proportions"
   ]
  },
  {
   "cell_type": "code",
   "execution_count": null,
   "metadata": {},
   "outputs": [],
   "source": [
    "from scipy.stats import binom_test\n",
    "\n",
    "# Sample data\n",
    "successes = 200\n",
    "trials = 250\n",
    "confidence_level = 0.95\n",
    "\n",
    "# Calculate confidence interval\n",
    "ci_low, ci_upp = proportion_ci(successes, trials, confidence_level=confidence_level, method=\"exact\")\n",
    "\n",
    "print(\"Confidence interval:\", (ci_low, ci_upp))"
   ]
  },
  {
   "cell_type": "code",
   "execution_count": null,
   "metadata": {},
   "outputs": [],
   "source": [
    "from scipy.stats import binomtest\n",
    "result = binomtest(3, n=15, p=0.1, alternative='greater')\n",
    "\n",
    "result.pvalue\n",
    "0.18406106910639114\n",
    "\n",
    "# Sample data\n",
    "count = 30  # Number of successes\n",
    "nobs = 100  # Number of observations\n",
    "value = 0.3  # Hypothesized proportion\n",
    "\n",
    "# Perform the test\n",
    "z_stat, p_value = sm.stats.proportions_ztest(count, nobs, p0)"
   ]
  },
  {
   "cell_type": "markdown",
   "metadata": {},
   "source": [
    "### Bootstrapping"
   ]
  },
  {
   "cell_type": "code",
   "execution_count": null,
   "metadata": {},
   "outputs": [],
   "source": [
    "## Boos\n",
    "from scipy.stats import bootstrap\n",
    "\n",
    "\n",
    "res = bootstrap(data, np.std, confidence_level=0.9, rng=rng)"
   ]
  },
  {
   "cell_type": "code",
   "execution_count": null,
   "metadata": {},
   "outputs": [],
   "source": []
  },
  {
   "cell_type": "markdown",
   "metadata": {},
   "source": [
    "### Tasks\n",
    "\n",
    "1. Generate a histogram for XXX\n",
    "\n",
    "2. Generate a boxplot for XXX\n",
    "\n",
    "3. Generate a violin plot for XXX\n",
    "\n",
    "4. Of the three plots above which do you prefer?\n",
    "\n",
    "5. Create and interpret a 90% confidence interval for mean number of rooms in all houses for sale in Ames, IA.\n",
    "\n",
    "6. Make a bootstrap confidence interval for the "
   ]
  }
 ],
 "metadata": {
  "kernelspec": {
   "display_name": "base",
   "language": "python",
   "name": "python3"
  },
  "language_info": {
   "codemirror_mode": {
    "name": "ipython",
    "version": 3
   },
   "file_extension": ".py",
   "mimetype": "text/x-python",
   "name": "python",
   "nbconvert_exporter": "python",
   "pygments_lexer": "ipython3",
   "version": "3.12.7"
  }
 },
 "nbformat": 4,
 "nbformat_minor": 2
}
