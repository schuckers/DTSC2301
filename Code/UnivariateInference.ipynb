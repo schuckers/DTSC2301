{
 "cells": [
  {
   "cell_type": "markdown",
   "metadata": {},
   "source": [
    "## Statistical Inference\n",
    "\n",
    "The primary tools of statistical inference are confidence intervals and hypothesis tests.  In this notebook, we will show how to calculate values necessary for making the relevant calculations.  Again we will be working with the Ames, IA housing data.  \n"
   ]
  },
  {
   "cell_type": "code",
   "execution_count": 4,
   "metadata": {},
   "outputs": [],
   "source": [
    "#Import the relevant libraries for the code below\n",
    "import scipy.stats as st \n",
    "\n",
    "from pathlib import Path\n",
    "import pandas as pd\n",
    "\n",
    "import matplotlib.pyplot as plt\n",
    "import numpy as np\n",
    "\n",
    "from matplotlib import colors"
   ]
  },
  {
   "cell_type": "code",
   "execution_count": null,
   "metadata": {},
   "outputs": [],
   "source": [
    "# read in the data to dataframe called ames\n",
    "ames = pd.read_csv(\"https://webpages.charlotte.edu/mschuck1/classes/DTSC2301/Data/Ames_house_prices.csv\", na_values=['?'])\n",
    "# replace the ? in the data with NaN for missing values\n",
    "ames.replace([' ?'],np.NaN)\n",
    "# show information about the dataframe\n",
    "ames.info()"
   ]
  },
  {
   "cell_type": "markdown",
   "metadata": {},
   "source": [
    "### For mean of a population\n",
    "\n",
    "The focus of the Ames, IA data set is the prediction of _SalePrice_ so we will focus on that here.  \n",
    "\n",
    "So we will assume we have a random sample from a population and we want to make some decision about the mean of the full population.  \n",
    "\n",
    "We will first look at the distribution of _SalePrice_."
   ]
  },
  {
   "cell_type": "code",
   "execution_count": null,
   "metadata": {},
   "outputs": [],
   "source": [
    "# make a green histogram\n",
    "plt.hist(ames['SalePrice'], color=\"grey\")\n",
    "plt.xlabel('Price')\n",
    "plt.ylabel('Frequency')\n",
    "plt.title('Histogram of House Price (Ames, IA)')\n",
    "plt.show()"
   ]
  },
  {
   "cell_type": "markdown",
   "metadata": {},
   "source": [
    "Next let's get some numeric summaries for this distribution.   "
   ]
  },
  {
   "cell_type": "code",
   "execution_count": null,
   "metadata": {},
   "outputs": [],
   "source": [
    "sale_price = ames['SalePrice']\n",
    "\n",
    "print(\"Mean of Sale Price is \", np.round(np.mean(ames['SalePrice']),2))\n",
    "print(\"Standard deviation of Sale Price is \", np.round(np.std(ames['SalePrice']),2))\n",
    "\n"
   ]
  },
  {
   "cell_type": "markdown",
   "metadata": {},
   "source": [
    "From the above output we can see that the mean sales price is $180921 with a standard deviation of about $79400.\n",
    "\n",
    "So let's make a 95% confidence interval for the mean of all sales prices for houses in Ames, IA.  Below is the python code to make that interval.  Note we are using a one-sample t confidence interval.  "
   ]
  },
  {
   "cell_type": "code",
   "execution_count": null,
   "metadata": {},
   "outputs": [],
   "source": [
    "# create 95% confidence interval for population mean\n",
    "st.t.interval(confidence=0.95, \n",
    "              df=len(sale_price)-1, \n",
    "              loc=np.mean(sale_price),  \n",
    "              scale=st.sem(sale_price)) "
   ]
  },
  {
   "cell_type": "markdown",
   "metadata": {},
   "source": [
    "So we can be 95% confidence that the mean sales price of all houses sold in Ames, IA is between $176842 and $185000.   "
   ]
  },
  {
   "cell_type": "markdown",
   "metadata": {},
   "source": [
    "### Discussion\n",
    "What is the population here?  Would this interval be appropriate for the mean of all houses sold in Ames, IA in 2025?  Why or Why not?"
   ]
  },
  {
   "cell_type": "markdown",
   "metadata": {},
   "source": [
    "#### Hypothesis test for a mean\n",
    "\n",
    "The other methodology for statistical inference is the hypothesis test.  Suppose we wanted to know if the average sales price for a house in Ames, IA is significantly less than $190000.  We know the average price is \\$180921 but could we claim that this is discernibly less than \\$190000.  \n"
   ]
  },
  {
   "cell_type": "markdown",
   "metadata": {},
   "source": [
    "Formally, the above translates to a hypothesis test of $H_0:\\mu = 190000 $ vs. $H_0: \\mu < 190000$ where $\\mu$ is the mean price of all houses in Ames, IA.\n",
    "\n",
    "How do we carry this test out in Python.  We'll use Python to calculate the p-value for us."
   ]
  },
  {
   "cell_type": "code",
   "execution_count": null,
   "metadata": {},
   "outputs": [],
   "source": [
    "#import function for one-sample t test\n",
    "from scipy.stats import ttest_1samp\n",
    "\n",
    "# get test statistic\n",
    "test_statistic, p_value = ttest_1samp(sale_price, 190000, alternative = \"less\")\n",
    "print(p_value)"
   ]
  },
  {
   "cell_type": "markdown",
   "metadata": {},
   "source": [
    "Since the p-value is small ($6.75 x 10 ^ -6$), we can reject the null hypothesis that the mean of all sale prices for houses in Ames, IA is $190000 in favor of the alternative that the mean is discernibly less than \\$190000.  "
   ]
  },
  {
   "cell_type": "markdown",
   "metadata": {},
   "source": [
    "### Inference for proportions\n",
    "\n",
    "We are next going to look at methods for statistical inference about a proportion.  Again we will have a confidence interval and a hypothesis test.  Our focus this time will be the feature _Fireplaces_ which is the number of fireplaces.  "
   ]
  },
  {
   "cell_type": "code",
   "execution_count": null,
   "metadata": {},
   "outputs": [],
   "source": [
    "# look at the first five values of the feature _CentralAir_\n",
    "print(ames['Fireplaces'].head())\n",
    "# create dummy variables (or one hot encoding or indicator variables) for Central Air\n",
    "fireplaces= ames['Fireplaces']>0\n",
    "# look at the first five values of this new feature which will have True/False as values\n",
    "print(fireplaces.head())\n",
    "# we will often want to have True values be represented as 1 and False values represented as 0's (zeroes)\n",
    "# this is code to do that.\n",
    "fireplaces = fireplaces*1\n",
    "print(fireplaces.head())\n",
    "# get the num of houses that do have central air\n",
    "print(np.sum(fireplaces, axis=0))\n",
    "# get the total number of houses\n",
    "print(len(fireplaces))"
   ]
  },
  {
   "cell_type": "markdown",
   "metadata": {},
   "source": [
    "So there were 770 houses with a fireplace out of 1460 houses in these data.  That is, 52.7%.   We will first make a confidence interval."
   ]
  },
  {
   "cell_type": "code",
   "execution_count": null,
   "metadata": {},
   "outputs": [],
   "source": [
    "# import an additional \n",
    "from scipy.stats import binomtest\n",
    "\n",
    "\n",
    "result = binomtest(770, n=1460)\n",
    "result.proportion_ci()\n",
    "# Calculate confidence interval\n"
   ]
  },
  {
   "cell_type": "markdown",
   "metadata": {},
   "source": [
    "Thus our 95% confidence interval is between 0.501 and 0.553.  So we are 95% confident that the proportion of all houses sold in Ames, Iowa that have a fireplace is between 50.1% and 55.3%.  "
   ]
  },
  {
   "cell_type": "markdown",
   "metadata": {},
   "source": [
    "To illustrate how to do a hypothesis test for a single proportion we will look at the percent of houses that have wooden decks.  To get at this we will use the feature _WoodDeckSF_ which is the square footage of wooden decks for a given house.  If the square footage is more than 0, we'll assume that the house has a wood deck."
   ]
  },
  {
   "cell_type": "code",
   "execution_count": null,
   "metadata": {},
   "outputs": [],
   "source": [
    "# look at the first five values of the feature _WoodDeckSF_\n",
    "print(ames['WoodDeckSF'].head())\n",
    "decks= ames['WoodDeckSF']>0\n",
    "# we will often want to have True values be represented as 1 and False values represented as 0's (zeroes)\n",
    "# this is code to do that.\n",
    "decks = decks*1\n",
    "# get the num of houses that do have a wooden deck\n",
    "print(np.sum(decks, axis=0))\n",
    "# get the total number of houses\n",
    "print(len(decks))"
   ]
  },
  {
   "cell_type": "markdown",
   "metadata": {},
   "source": [
    "So 699 of 1460 or 47.9% of houses for sale in Ames, IA had a wooden deck.  Let's test whether that is discernibly less than 50%.  Formally, that means that we are testing  $H_0: p = 0.50$ vs $H_a: p<0.50$ where $p$ is the proportion of the population of houses that have a wooden deck."
   ]
  },
  {
   "cell_type": "code",
   "execution_count": null,
   "metadata": {},
   "outputs": [],
   "source": [
    "# code for hypothesis test for proportion\n",
    "result = binomtest(699, n=1460, p=0.5, alternative='less')\n",
    "print(np.round(result.pvalue,5))"
   ]
  },
  {
   "cell_type": "markdown",
   "metadata": {},
   "source": [
    "The p-value is $0.0552$ which is relatively large and so we fail to reject the null hypothesis that the proportion of all houses for sale in Ames, IA is 50%.  That is, our observed proportion, 47.9%, was not statistically distinguishable from 50%.  "
   ]
  },
  {
   "cell_type": "markdown",
   "metadata": {},
   "source": [
    "### Tasks\n",
    "\n",
    "1. Create a 99% confidence interval for the mean square footage of garages, *GarageArea*, for houses for sale in Ames, IA.  Interpret the interval that you made.\n",
    "\n",
    "2. Formally test whether or not the mean _LotArea_ is more than 10000 square feet.  Clearly state and justify your conclusions.\n",
    "\n",
    "3. Create and interpret a 95% confidence interval for the proportion of houses that are two stories (ames['HouseStyle']==\"2Story\").\n",
    "\n",
    "4. Test formally if the proportion of garages that are attached to a house (_GarageType_==\"Attchd\") is more than 55%.  Clearly state and justify your conclusions."
   ]
  }
 ],
 "metadata": {
  "kernelspec": {
   "display_name": "base",
   "language": "python",
   "name": "python3"
  },
  "language_info": {
   "codemirror_mode": {
    "name": "ipython",
    "version": 3
   },
   "file_extension": ".py",
   "mimetype": "text/x-python",
   "name": "python",
   "nbconvert_exporter": "python",
   "pygments_lexer": "ipython3",
   "version": "3.12.7"
  }
 },
 "nbformat": 4,
 "nbformat_minor": 2
}
