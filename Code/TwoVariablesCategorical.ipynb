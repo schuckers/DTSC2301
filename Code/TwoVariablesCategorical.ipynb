{
 "cells": [
  {
   "cell_type": "markdown",
   "metadata": {},
   "source": [
    "## Relationships with Categorical Features/Variables"
   ]
  },
  {
   "cell_type": "markdown",
   "metadata": {},
   "source": [
    "In this Jupyter Notebook, we'll look at two variable relationships that include a categorical variable.  We start with reading in some of the libraries that we'll need.  "
   ]
  },
  {
   "cell_type": "code",
   "execution_count": 101,
   "metadata": {},
   "outputs": [],
   "source": [
    "# Load in packages we need for doing graphical representations.  \n",
    "from pathlib import Path\n",
    "import pandas as pd\n",
    "\n",
    "import matplotlib.pyplot as plt\n",
    "import numpy as np\n",
    "\n",
    "from matplotlib import colors\n",
    "\n",
    "import scipy.stats as stats"
   ]
  },
  {
   "cell_type": "markdown",
   "metadata": {},
   "source": [
    "We're going to start looking at the data from our first day survey that you filled out, though the data has been cleaned up a bit.  More on that another day.  There is a mantra in modelling that 70 to 80 percent of making a model is getting the right data and making sure it is clean.  "
   ]
  },
  {
   "cell_type": "code",
   "execution_count": null,
   "metadata": {},
   "outputs": [],
   "source": [
    "firstday = pd.read_csv(\"https://webpages.charlotte.edu/mschuck1/classes/DTSC2301/Data/DTSC2301FirstDaySurvey_Responses_Clean.csv\", na_values=['NA'])\n",
    "# remove rows with missing data\n",
    "#print(firstday.head())\n",
    "firstday.info()"
   ]
  },
  {
   "cell_type": "markdown",
   "metadata": {},
   "source": [
    "Looking at this output, there are some variables that we would like to be numeric but which are not.  This is primarily due to having used a google form document to obtain these output.  Also as the name of the file suggests, the data here has been cleaned but we'll have to do some additional reformatting.  "
   ]
  },
  {
   "cell_type": "code",
   "execution_count": 103,
   "metadata": {},
   "outputs": [],
   "source": [
    "# change Haircut from a string to a float and the argument errors = \"coerce\"\n",
    "# ensures that any blanks get treated as missing values\n",
    "firstday['Haircut']=pd.to_numeric(firstday['Haircut'],errors=\"coerce\")\n",
    "# do the same with the number of contacts\n",
    "firstday['NumbContacts']=pd.to_numeric(firstday['NumbContacts'],errors=\"coerce\")\n",
    "# do same with shoesize\n",
    "firstday['ShoeSize']=pd.to_numeric(firstday['ShoeSize'],errors=\"coerce\")"
   ]
  },
  {
   "cell_type": "markdown",
   "metadata": {},
   "source": [
    "### Categorical vs Numeric Variables"
   ]
  },
  {
   "cell_type": "markdown",
   "metadata": {},
   "source": [
    "### Quantitative vs Categorical Summaries\n",
    "\n",
    "Visually the way that we look at relationship between quantitative and categorical data is through side-by-side boxplots or side-by-side violinplots.  \n",
    "\n",
    " \n"
   ]
  },
  {
   "cell_type": "markdown",
   "metadata": {},
   "source": [
    "#### Seaborn\n",
    "To make these plots easier, we are going to introduct a new python library, *seaborn*,  which has easier code but less control than *matplotlib*\n",
    "\n",
    "You might have to *pip3 install seaborn* to get *seaborn*\n",
    "\n"
   ]
  },
  {
   "cell_type": "code",
   "execution_count": null,
   "metadata": {},
   "outputs": [],
   "source": [
    "# import seaborn as sns\n",
    "import seaborn as sns\n",
    "\n",
    "# Create the side-by-side boxplots\n",
    "# \n",
    "sns.boxplot(x=\"OffCampusJob\", y=\"Haircut\", data=firstday)\n",
    "\n"
   ]
  },
  {
   "cell_type": "markdown",
   "metadata": {},
   "source": [
    "There does not seem to be a relationship between having an off campus job and the amount paid for your last haircut.  The reason for that is that when we change categories (No to Yes or Yes to No) the distribution of the variable *Haircut* doesn't seem to change. \n",
    "\n",
    "Let's look at time to campus vs whether or not North Carolina is home."
   ]
  },
  {
   "cell_type": "code",
   "execution_count": null,
   "metadata": {},
   "outputs": [],
   "source": [
    "# Create the side-by-side boxplots\n",
    "# \n",
    "sns.boxplot(x=\"NCHome\", y=\"TimeToCampus\", data=firstday)"
   ]
  },
  {
   "cell_type": "markdown",
   "metadata": {},
   "source": [
    "This time there seems to be a relationship here since the distribution of TimeToCampus for those who do not consider North Carolina home is different from the distribution of TimeToCampus for those that do.  In particular, the median for the 'No' group is considerably higher than that of the 'Yes' group.  "
   ]
  },
  {
   "cell_type": "markdown",
   "metadata": {},
   "source": [
    "So far we have only done categorical groups with two categories.  If we move to categorical variables with more levels/categories, the code stays the same.  Note that the sample size in each group may drop and so the distributions can have some variability that might just be do to the fact that there are few observations within a give level/category."
   ]
  },
  {
   "cell_type": "code",
   "execution_count": null,
   "metadata": {},
   "outputs": [],
   "source": [
    "# Create the side-by-side boxplots\n",
    "# \n",
    "sns.boxplot(x=\"ClassYear\", y=\"TimeToCampus\", data=firstday)"
   ]
  },
  {
   "cell_type": "markdown",
   "metadata": {},
   "source": [
    "It is hard to say there are differences here though it does appear that the variation in seniors is much less than for everyone else.  First year students might have the highest median.  "
   ]
  },
  {
   "cell_type": "code",
   "execution_count": null,
   "metadata": {},
   "outputs": [],
   "source": [
    "# Create the side-by-side boxplots\n",
    "# Class year vs Number of siblings\n",
    "sns.boxplot(x=\"ClassYear\", y=\"NumbSiblings\", data=firstday)"
   ]
  },
  {
   "cell_type": "markdown",
   "metadata": {},
   "source": [
    "Does seem like there is a relationship here since seniors in our class have more siblings, on average, than other classes."
   ]
  },
  {
   "cell_type": "markdown",
   "metadata": {},
   "source": [
    "#### Categorical vs Categorical Investigation"
   ]
  },
  {
   "cell_type": "markdown",
   "metadata": {},
   "source": [
    "We have not yet talked about visualizing categorical data.  First, there is broad consensus in the data visualization community that bar charts are strongly preferred to pie charts.  The reason is that they don't make for easy comparisons between groups.  We won't be making pie charts in this course. "
   ]
  },
  {
   "cell_type": "code",
   "execution_count": null,
   "metadata": {},
   "outputs": [],
   "source": [
    "# for some strange reason the way to make a bar chart in seaborn is to \n",
    "# make a countplot\n",
    "sns.countplot(x=\"ClassYear\",data=firstday, stat=\"proportion\")"
   ]
  },
  {
   "cell_type": "code",
   "execution_count": null,
   "metadata": {},
   "outputs": [],
   "source": [
    "# the default in seaborn is to order the categories by count\n",
    "# we can use the order argument of the countplot function to order the categories alphabetically\n",
    "sns.countplot(x=\"ClassYear\",data=firstday, stat=\"proportion\",order=sorted(firstday['ClassYear'].unique()))"
   ]
  },
  {
   "cell_type": "markdown",
   "metadata": {},
   "source": [
    "From this we can clearly see that the ordering for the proportion of students from particular classes with Sophomores being the most common class year, followed by Juniors."
   ]
  },
  {
   "cell_type": "markdown",
   "metadata": {},
   "source": [
    "The tool we want to use to determine if there is a relationship between two categorical variables is something called a stacked bar chart, or sometimes known as a ribbon plot.  We'll have to do a bit of coding for this since it is not something with a nice built in function in python. "
   ]
  },
  {
   "cell_type": "markdown",
   "metadata": {},
   "source": [
    "For the code below you need only need to change the dataframe (df) and the grouping variables *x_var* and *y_var* "
   ]
  },
  {
   "cell_type": "code",
   "execution_count": null,
   "metadata": {},
   "outputs": [],
   "source": [
    "\n",
    "#\n",
    "df=firstday\n",
    "x_var, y_var = \"ClassYear\",\"OffCampusJob\"\n",
    "\n",
    "# create a dataframe of counts\n",
    "df_grouped = df.groupby(x_var)[y_var].value_counts(normalize=True).unstack(y_var)\n",
    "# make a bar plot that is stacked\n",
    "df_grouped.plot.bar(stacked=True)\n",
    "# add a legend with \"best\" location \n",
    "plt.legend(loc=\"best\")\n",
    "# get the cumulative percents across the groups\n",
    "for ix, row in df_grouped.reset_index(drop=True).iterrows():\n",
    "        cumulative = 0\n",
    "        for element in row:\n",
    "            if element == element and element > 0.1:\n",
    "                plt.text(\n",
    "                    ix,\n",
    "                    cumulative + element / 2,\n",
    "                    f\"{int(element * 100)} %\",\n",
    "                    va=\"center\",\n",
    "                    ha=\"center\",\n",
    "                )\n",
    "            cumulative += element\n",
    "plt.tight_layout()\n",
    "#bottom_bar = mpatches.Patch(color='lightblue', label='NC Home = Yes')\n",
    "#plt.legend(handles=[bottom_bar])\n",
    "plt.ylabel(y_var)\n",
    "plt.title(\"Ribbon Plot of Off Campus Job by Class Year\")\n",
    "# show the graph\n",
    "plt.show()"
   ]
  },
  {
   "cell_type": "markdown",
   "metadata": {},
   "source": [
    "Note that 22% here represents the percent of First Years who have off campus jobs, while 34% is the percent of juniors who do not have off campus jobs.  \n",
    "\n",
    "There seems to be a relationship here between class year and whether or not a student in our class has an off campus job since the percent of juniors who have off campus jobs is much higher, $65\\%$, than the percent of first years who have off campus jobs, $22\\%$."
   ]
  },
  {
   "cell_type": "markdown",
   "metadata": {},
   "source": [
    "Next we will look at whether or not Charlotte being home is related to whether or not a student has a campus job."
   ]
  },
  {
   "cell_type": "code",
   "execution_count": null,
   "metadata": {},
   "outputs": [],
   "source": [
    "#\n",
    "df=firstday\n",
    "x_var, y_var = \"CharlotteHome\",\"CampusJob\"\n",
    "\n",
    "# create a dataframe of counts\n",
    "df_grouped = df.groupby(x_var)[y_var].value_counts(normalize=True).unstack(y_var)\n",
    "# make a bar plot that is stacked\n",
    "df_grouped.plot.bar(stacked=True)\n",
    "# add a legend with \"best\" location \n",
    "plt.legend(loc=\"best\")\n",
    "# get the cumulative percents across the groups\n",
    "for ix, row in df_grouped.reset_index(drop=True).iterrows():\n",
    "        cumulative = 0\n",
    "        for element in row:\n",
    "            if element == element and element > 0.1:\n",
    "                plt.text(\n",
    "                    ix,\n",
    "                    cumulative + element / 2,\n",
    "                    f\"{int(element * 100)} %\",\n",
    "                    va=\"center\",\n",
    "                    ha=\"center\",\n",
    "                )\n",
    "            cumulative += element\n",
    "plt.tight_layout()\n",
    "#bottom_bar = mpatches.Patch(color='lightblue', label='NC Home = Yes')\n",
    "#plt.legend(handles=[bottom_bar])\n",
    "plt.ylabel(y_var)\n",
    "plt.title(\"Ribbon Plot of Off Campus Job by Class Year\")\n",
    "# show the graph\n",
    "plt.show()"
   ]
  },
  {
   "cell_type": "markdown",
   "metadata": {},
   "source": [
    "From the graph above there does not seem to be a relationship between the variables *CharlotteHome* and *CampusJob*; that is, there does not seem to be a relationship between whether or not you consider Charlotte \"home\" and whether or not you have a campus job."
   ]
  },
  {
   "cell_type": "markdown",
   "metadata": {},
   "source": [
    "Note that in the above, I've describe relationships as seeming to be or doesn't seem to be.  There are statistical tests for all of these relationships to determine if those relationship are discernibly different from no relationship."
   ]
  },
  {
   "cell_type": "markdown",
   "metadata": {},
   "source": [
    "Tasks\n",
    "\n",
    "1.  Create a plot that lets you determine if there is a relationship between whether or not North Carolina is home (*NCHome*) and the number of contacts on your cell phone (*NumbContacts*).  Determine if there seems to be a relationship between these two variables/features.\n",
    "\n",
    "2. Create a plot to see if there is a relationship between Class Year (*ClassYear*) and whether or not Charlotte is home (*CharlotteHome*).  Determine if there seems to be a relationship between these two variables/features"
   ]
  }
 ],
 "metadata": {
  "kernelspec": {
   "display_name": "Python 3",
   "language": "python",
   "name": "python3"
  },
  "language_info": {
   "codemirror_mode": {
    "name": "ipython",
    "version": 3
   },
   "file_extension": ".py",
   "mimetype": "text/x-python",
   "name": "python",
   "nbconvert_exporter": "python",
   "pygments_lexer": "ipython3",
   "version": "3.13.1"
  }
 },
 "nbformat": 4,
 "nbformat_minor": 2
}
