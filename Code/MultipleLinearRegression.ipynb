{
 "cells": [
  {
   "cell_type": "markdown",
   "metadata": {},
   "source": [
    "## Multple Linear Regression\n",
    "\n",
    "The world is more complicated than two dimensions and so we need models for multiple dimensions and multiple features/predictors. \n",
    "\n",
    "Below we will look at models that are of the form:\n",
    " $$ Y = \\beta_0 + \\beta_1 X_1 + \\beta_2 X_2 + \\beta_3 X_3 + \\ldots + \\beta_p X_p + \\epsilon$$\n",
    "\n",
    " We now have multiple predictors, $p$ of them in fact.  And so we have some changes to make and so things that will remain the same.  "
   ]
  },
  {
   "cell_type": "code",
   "execution_count": 191,
   "metadata": {},
   "outputs": [],
   "source": [
    "# reading in the libraries and functions that we will need as we do this work.\n",
    "import pandas as pd\n",
    "import numpy as np\n",
    "import matplotlib.pyplot as plt\n",
    "import seaborn as sns\n",
    " \n",
    "import scipy.stats as st\n",
    "import statsmodels.api as sm \n",
    "import pylab as py \n",
    "\n",
    "# here are some of the tools we will use for our analyses\n",
    "from sklearn.linear_model import LinearRegression\n",
    "from sklearn.metrics import PredictionErrorDisplay\n",
    "from sklearn.metrics import root_mean_squared_error\n",
    "from sklearn.metrics import r2_score"
   ]
  },
  {
   "cell_type": "markdown",
   "metadata": {},
   "source": [
    "#### Ames Housing Data\n",
    "We'll start with the Ames Housing Data again.  "
   ]
  },
  {
   "cell_type": "code",
   "execution_count": 192,
   "metadata": {},
   "outputs": [
    {
     "name": "stdout",
     "output_type": "stream",
     "text": [
      "<class 'pandas.core.frame.DataFrame'>\n",
      "RangeIndex: 1460 entries, 0 to 1459\n",
      "Data columns (total 81 columns):\n",
      " #   Column         Non-Null Count  Dtype  \n",
      "---  ------         --------------  -----  \n",
      " 0   Id             1460 non-null   int64  \n",
      " 1   MSSubClass     1460 non-null   int64  \n",
      " 2   MSZoning       1460 non-null   object \n",
      " 3   LotFrontage    1201 non-null   float64\n",
      " 4   LotArea        1460 non-null   int64  \n",
      " 5   Street         1460 non-null   object \n",
      " 6   Alley          91 non-null     object \n",
      " 7   LotShape       1460 non-null   object \n",
      " 8   LandContour    1460 non-null   object \n",
      " 9   Utilities      1460 non-null   object \n",
      " 10  LotConfig      1460 non-null   object \n",
      " 11  LandSlope      1460 non-null   object \n",
      " 12  Neighborhood   1460 non-null   object \n",
      " 13  Condition1     1460 non-null   object \n",
      " 14  Condition2     1460 non-null   object \n",
      " 15  BldgType       1460 non-null   object \n",
      " 16  HouseStyle     1460 non-null   object \n",
      " 17  OverallQual    1460 non-null   int64  \n",
      " 18  OverallCond    1460 non-null   int64  \n",
      " 19  YearBuilt      1460 non-null   int64  \n",
      " 20  YearRemodAdd   1460 non-null   int64  \n",
      " 21  RoofStyle      1460 non-null   object \n",
      " 22  RoofMatl       1460 non-null   object \n",
      " 23  Exterior1st    1460 non-null   object \n",
      " 24  Exterior2nd    1460 non-null   object \n",
      " 25  MasVnrType     588 non-null    object \n",
      " 26  MasVnrArea     1452 non-null   float64\n",
      " 27  ExterQual      1460 non-null   object \n",
      " 28  ExterCond      1460 non-null   object \n",
      " 29  Foundation     1460 non-null   object \n",
      " 30  BsmtQual       1423 non-null   object \n",
      " 31  BsmtCond       1423 non-null   object \n",
      " 32  BsmtExposure   1422 non-null   object \n",
      " 33  BsmtFinType1   1423 non-null   object \n",
      " 34  BsmtFinSF1     1460 non-null   int64  \n",
      " 35  BsmtFinType2   1422 non-null   object \n",
      " 36  BsmtFinSF2     1460 non-null   int64  \n",
      " 37  BsmtUnfSF      1460 non-null   int64  \n",
      " 38  TotalBsmtSF    1460 non-null   int64  \n",
      " 39  Heating        1460 non-null   object \n",
      " 40  HeatingQC      1460 non-null   object \n",
      " 41  CentralAir     1460 non-null   object \n",
      " 42  Electrical     1459 non-null   object \n",
      " 43  1stFlrSF       1460 non-null   int64  \n",
      " 44  2ndFlrSF       1460 non-null   int64  \n",
      " 45  LowQualFinSF   1460 non-null   int64  \n",
      " 46  GrLivArea      1460 non-null   int64  \n",
      " 47  BsmtFullBath   1460 non-null   int64  \n",
      " 48  BsmtHalfBath   1460 non-null   int64  \n",
      " 49  FullBath       1460 non-null   int64  \n",
      " 50  HalfBath       1460 non-null   int64  \n",
      " 51  BedroomAbvGr   1460 non-null   int64  \n",
      " 52  KitchenAbvGr   1460 non-null   int64  \n",
      " 53  KitchenQual    1460 non-null   object \n",
      " 54  TotRmsAbvGrd   1460 non-null   int64  \n",
      " 55  Functional     1460 non-null   object \n",
      " 56  Fireplaces     1460 non-null   int64  \n",
      " 57  FireplaceQu    770 non-null    object \n",
      " 58  GarageType     1379 non-null   object \n",
      " 59  GarageYrBlt    1379 non-null   float64\n",
      " 60  GarageFinish   1379 non-null   object \n",
      " 61  GarageCars     1460 non-null   int64  \n",
      " 62  GarageArea     1460 non-null   int64  \n",
      " 63  GarageQual     1379 non-null   object \n",
      " 64  GarageCond     1379 non-null   object \n",
      " 65  PavedDrive     1460 non-null   object \n",
      " 66  WoodDeckSF     1460 non-null   int64  \n",
      " 67  OpenPorchSF    1460 non-null   int64  \n",
      " 68  EnclosedPorch  1460 non-null   int64  \n",
      " 69  3SsnPorch      1460 non-null   int64  \n",
      " 70  ScreenPorch    1460 non-null   int64  \n",
      " 71  PoolArea       1460 non-null   int64  \n",
      " 72  PoolQC         7 non-null      object \n",
      " 73  Fence          281 non-null    object \n",
      " 74  MiscFeature    54 non-null     object \n",
      " 75  MiscVal        1460 non-null   int64  \n",
      " 76  MoSold         1460 non-null   int64  \n",
      " 77  YrSold         1460 non-null   int64  \n",
      " 78  SaleType       1460 non-null   object \n",
      " 79  SaleCondition  1460 non-null   object \n",
      " 80  SalePrice      1460 non-null   int64  \n",
      "dtypes: float64(3), int64(35), object(43)\n",
      "memory usage: 924.0+ KB\n"
     ]
    }
   ],
   "source": [
    "# read in the data to dataframe called ames\n",
    "ames = pd.read_csv(\"https://webpages.charlotte.edu/mschuck1/classes/DTSC2301/Data/Ames_house_prices.csv\", na_values=['?'])\n",
    "# replace the ? in the data with NaN for missing values\n",
    "ames.replace([' ?'],np.nan)\n",
    "# show information about the dataframe\n",
    "ames.info()"
   ]
  },
  {
   "cell_type": "code",
   "execution_count": 193,
   "metadata": {},
   "outputs": [
    {
     "name": "stdout",
     "output_type": "stream",
     "text": [
      "Root Mean Squared Error: 52475.82525050501\n",
      "Coefficients: [ 0.33099323 97.83484321 42.29063751]\n",
      "Intercept: 10413.236800401675\n"
     ]
    }
   ],
   "source": [
    "\n",
    "# below we build a multiple regression model with three predictors\n",
    "# Those predictors are LotArea, GrLivArea and BsmtFinSF1 and we put these all into X \n",
    "# \n",
    "# Our target variable will be the SalePrice \n",
    "\n",
    "X = ames[['LotArea', 'GrLivArea', 'BsmtFinSF1']]  \n",
    "y = ames['SalePrice']  \n",
    "\n",
    "\n",
    "# Create a linear regression model\n",
    "model = LinearRegression()\n",
    "\n",
    "# Fit the model on the  data\n",
    "model.fit(X, y)\n",
    "\n",
    "# Make predictions on the  data\n",
    "y_hat = model.predict(X)\n",
    "\n",
    "# Evaluate the model\n",
    "rmse = root_mean_squared_error(y, y_hat)\n",
    "print('Root Mean Squared Error:', rmse)\n",
    "\n",
    "# Get the coefficients and intercept\n",
    "# note the coefficients will be in the same order as the  data frame\n",
    "print('Coefficients:', model.coef_)\n",
    "print('Intercept:', model.intercept_)"
   ]
  },
  {
   "cell_type": "markdown",
   "metadata": {},
   "source": [
    "So the RMSE is still the average difference between the predicted and observed response values.  Here that means that for this model the average difference between a predicted\n",
    "sale price and the actual sale price for a home in Ames, Iowa is \\$ 52475.\n",
    "\n",
    "Our coefficients now have a slightly different interpretation.  Starting with the coefficient for *LotArea*, we can say that for each additional square foot \n",
    "of lot that a property in Ames, Iowa has then we predict that the sales price for that house will increase by \\$0.33 assuming that the other predictors \n",
    "remain constant.  That last phrase, _that the other predictors remain constant_, is important.\n",
    "\n",
    "Moving to the coefficient for *GrLivArea*, for every additional square foot of liveable space in the house we expect that the sales price of a house in Ames, IA will increase by \\$97.8 assuming\n",
    "that *Lot Area* and *BsmtFinSF1* are fixed.  \n",
    "\n",
    "Lastly, for each additional square foot of finished basement, we predict that that sales price of a house in Ames will increase by \\$42.3 if the lot area and the general living area are \n",
    "held constant."
   ]
  },
  {
   "cell_type": "code",
   "execution_count": 194,
   "metadata": {},
   "outputs": [
    {
     "name": "stdout",
     "output_type": "stream",
     "text": [
      "                            OLS Regression Results                            \n",
      "==============================================================================\n",
      "Dep. Variable:              SalePrice   R-squared:                       0.563\n",
      "Model:                            OLS   Adj. R-squared:                  0.562\n",
      "Method:                 Least Squares   F-statistic:                     626.2\n",
      "Date:                Fri, 31 Jan 2025   Prob (F-statistic):          2.29e-261\n",
      "Time:                        07:46:55   Log-Likelihood:                -17939.\n",
      "No. Observations:                1460   AIC:                         3.589e+04\n",
      "Df Residuals:                    1456   BIC:                         3.591e+04\n",
      "Df Model:                           3                                         \n",
      "Covariance Type:            nonrobust                                         \n",
      "==============================================================================\n",
      "                 coef    std err          t      P>|t|      [0.025      0.975]\n",
      "------------------------------------------------------------------------------\n",
      "const       1.041e+04   4244.999      2.453      0.014    2086.270    1.87e+04\n",
      "LotArea        0.3310      0.145      2.284      0.023       0.047       0.615\n",
      "GrLivArea     97.8348      2.750     35.582      0.000      92.441     103.228\n",
      "BsmtFinSF1    42.2906      3.129     13.517      0.000      36.153      48.428\n",
      "==============================================================================\n",
      "Omnibus:                      524.443   Durbin-Watson:                   1.998\n",
      "Prob(Omnibus):                  0.000   Jarque-Bera (JB):            29146.541\n",
      "Skew:                          -0.860   Prob(JB):                         0.00\n",
      "Kurtosis:                      24.821   Cond. No.                     4.49e+04\n",
      "==============================================================================\n",
      "\n",
      "Notes:\n",
      "[1] Standard Errors assume that the covariance matrix of the errors is correctly specified.\n",
      "[2] The condition number is large, 4.49e+04. This might indicate that there are\n",
      "strong multicollinearity or other numerical problems.\n"
     ]
    }
   ],
   "source": [
    "\n",
    "\n",
    "# for this particular model sm.OLS formulation we need to add a \n",
    "# column of 1's to the feature array\n",
    "#add constant to predictor variables\n",
    "# Note that OLS stands for Ordinary Least Squares which is the \n",
    "# methodology used to get our estimates\n",
    "x2 = sm.add_constant(X)\n",
    "\n",
    "#fit linear regression model\n",
    "model2 = sm.OLS(y, x2).fit()\n",
    "\n",
    "#view model summary\n",
    "print(model2.summary())"
   ]
  },
  {
   "cell_type": "code",
   "execution_count": 195,
   "metadata": {},
   "outputs": [
    {
     "data": {
      "image/png": "[encoded data removed]",
      "text/plain": [
       "<Figure size 640x480 with 1 Axes>"
      ]
     },
     "metadata": {},
     "output_type": "display_data"
    }
   ],
   "source": [
    "\n",
    "# below makes a residual vs predicted values plot\n",
    "display = PredictionErrorDisplay(y_true=y, y_pred=y_hat)\n",
    "display.plot()\n",
    "plt.show()"
   ]
  },
  {
   "cell_type": "markdown",
   "metadata": {},
   "source": [
    "Ooof, that does not look good. There is increasing variation in the residuals as the predicted values increase, heteroscedasticity, so our linear model is not appropriate here.  \n",
    "\n",
    "Let's find some other data to look at.  "
   ]
  },
  {
   "cell_type": "markdown",
   "metadata": {},
   "source": [
    "#### Blue Jay Data"
   ]
  },
  {
   "cell_type": "code",
   "execution_count": 196,
   "metadata": {},
   "outputs": [
    {
     "data": {
      "text/html": [
       "<div>\n",
       "<style scoped>\n",
       "    .dataframe tbody tr th:only-of-type {\n",
       "        vertical-align: middle;\n",
       "    }\n",
       "\n",
       "    .dataframe tbody tr th {\n",
       "        vertical-align: top;\n",
       "    }\n",
       "\n",
       "    .dataframe thead th {\n",
       "        text-align: right;\n",
       "    }\n",
       "</style>\n",
       "<table border=\"1\" class=\"dataframe\">\n",
       "  <thead>\n",
       "    <tr style=\"text-align: right;\">\n",
       "      <th></th>\n",
       "      <th>Unnamed: 0</th>\n",
       "      <th>BirdID</th>\n",
       "      <th>KnownSex</th>\n",
       "      <th>BillDepth</th>\n",
       "      <th>BillWidth</th>\n",
       "      <th>BillLength</th>\n",
       "      <th>Head</th>\n",
       "      <th>Mass</th>\n",
       "      <th>Skull</th>\n",
       "      <th>Sex</th>\n",
       "    </tr>\n",
       "  </thead>\n",
       "  <tbody>\n",
       "    <tr>\n",
       "      <th>0</th>\n",
       "      <td>1</td>\n",
       "      <td>0000-00000</td>\n",
       "      <td>M</td>\n",
       "      <td>8.26</td>\n",
       "      <td>9.21</td>\n",
       "      <td>25.92</td>\n",
       "      <td>56.58</td>\n",
       "      <td>73.30</td>\n",
       "      <td>30.66</td>\n",
       "      <td>1</td>\n",
       "    </tr>\n",
       "    <tr>\n",
       "      <th>1</th>\n",
       "      <td>2</td>\n",
       "      <td>1142-05901</td>\n",
       "      <td>M</td>\n",
       "      <td>8.54</td>\n",
       "      <td>8.76</td>\n",
       "      <td>24.99</td>\n",
       "      <td>56.36</td>\n",
       "      <td>75.10</td>\n",
       "      <td>31.38</td>\n",
       "      <td>1</td>\n",
       "    </tr>\n",
       "    <tr>\n",
       "      <th>2</th>\n",
       "      <td>3</td>\n",
       "      <td>1142-05905</td>\n",
       "      <td>M</td>\n",
       "      <td>8.39</td>\n",
       "      <td>8.78</td>\n",
       "      <td>26.07</td>\n",
       "      <td>57.32</td>\n",
       "      <td>70.25</td>\n",
       "      <td>31.25</td>\n",
       "      <td>1</td>\n",
       "    </tr>\n",
       "    <tr>\n",
       "      <th>3</th>\n",
       "      <td>4</td>\n",
       "      <td>1142-05907</td>\n",
       "      <td>F</td>\n",
       "      <td>7.78</td>\n",
       "      <td>9.30</td>\n",
       "      <td>23.48</td>\n",
       "      <td>53.77</td>\n",
       "      <td>65.50</td>\n",
       "      <td>30.29</td>\n",
       "      <td>0</td>\n",
       "    </tr>\n",
       "    <tr>\n",
       "      <th>4</th>\n",
       "      <td>5</td>\n",
       "      <td>1142-05909</td>\n",
       "      <td>M</td>\n",
       "      <td>8.71</td>\n",
       "      <td>9.84</td>\n",
       "      <td>25.47</td>\n",
       "      <td>57.32</td>\n",
       "      <td>74.90</td>\n",
       "      <td>31.85</td>\n",
       "      <td>1</td>\n",
       "    </tr>\n",
       "  </tbody>\n",
       "</table>\n",
       "</div>"
      ],
      "text/plain": [
       "   Unnamed: 0      BirdID KnownSex  BillDepth  BillWidth  BillLength   Head  \\\n",
       "0           1  0000-00000        M       8.26       9.21       25.92  56.58   \n",
       "1           2  1142-05901        M       8.54       8.76       24.99  56.36   \n",
       "2           3  1142-05905        M       8.39       8.78       26.07  57.32   \n",
       "3           4  1142-05907        F       7.78       9.30       23.48  53.77   \n",
       "4           5  1142-05909        M       8.71       9.84       25.47  57.32   \n",
       "\n",
       "    Mass  Skull  Sex  \n",
       "0  73.30  30.66    1  \n",
       "1  75.10  31.38    1  \n",
       "2  70.25  31.25    1  \n",
       "3  65.50  30.29    0  \n",
       "4  74.90  31.85    1  "
      ]
     },
     "execution_count": 196,
     "metadata": {},
     "output_type": "execute_result"
    }
   ],
   "source": [
    "# read in the blue jay data\n",
    "bluejay = pd.read_csv(\"https://webpages.charlotte.edu/mschuck1/classes/DTSC2301/Data/BlueJays.csv\", na_values=['NA'])\n",
    "# remove rows with missing data\n",
    "bluejay.dropna(inplace=True)\n",
    "bluejay.head()"
   ]
  },
  {
   "cell_type": "markdown",
   "metadata": {},
   "source": [
    "We will start with a model with just *Head* as a predictor.  Here's what we had before in _IntroLinearRegression.ipynb_.  "
   ]
  },
  {
   "cell_type": "code",
   "execution_count": 197,
   "metadata": {},
   "outputs": [
    {
     "data": {
      "image/png": "[encoded data removed]",
      "text/plain": [
       "<Figure size 640x480 with 1 Axes>"
      ]
     },
     "metadata": {},
     "output_type": "display_data"
    }
   ],
   "source": [
    "# In sklearn we first need to create a model object \n",
    "# and here it is a linear regression\n",
    "bluejay_model1= LinearRegression()\n",
    "# note below that the x needs to be a two dimensional array so we \n",
    "# need the double brackets here\n",
    "bluejay_x=bluejay[['Skull']]\n",
    "# y needs to be a one dimensional array so single brackets work\n",
    "bluejay_y=bluejay['Mass']\n",
    "bluejay_model1.fit(bluejay_x, bluejay_y)\n",
    "\n",
    "# make the residual vs fitted plot\n",
    "bluejay_y_hat = bluejay_model1.predict(bluejay_x)\n",
    "# below makes a \n",
    "display = PredictionErrorDisplay(y_true=bluejay_y, y_pred=bluejay_y_hat)\n",
    "display.plot()\n",
    "plt.show()"
   ]
  },
  {
   "cell_type": "code",
   "execution_count": 198,
   "metadata": {},
   "outputs": [
    {
     "data": {
      "image/png": "[encoded data removed]",
      "text/plain": [
       "<Figure size 640x480 with 1 Axes>"
      ]
     },
     "metadata": {},
     "output_type": "display_data"
    }
   ],
   "source": [
    "# this is code for making the qqplot\n",
    "\n",
    "# get the predicted values from the model\n",
    "bluejay_y_hat = bluejay_model1.predict(bluejay_x)  \n",
    "# calculate the residuals \n",
    "bluejay_residuals = bluejay_y -bluejay_y_hat\n",
    "# generate the qq plot and put a line through the points to help us visualize the relationship here    \n",
    "sm.qqplot(bluejay_residuals, line ='s') \n",
    "# \n",
    "py.show() "
   ]
  },
  {
   "cell_type": "markdown",
   "metadata": {},
   "source": [
    "Both of these plots look good.  Let's get the model summary."
   ]
  },
  {
   "cell_type": "code",
   "execution_count": 199,
   "metadata": {},
   "outputs": [
    {
     "name": "stdout",
     "output_type": "stream",
     "text": [
      "                            OLS Regression Results                            \n",
      "==============================================================================\n",
      "Dep. Variable:                   Mass   R-squared:                       0.306\n",
      "Model:                            OLS   Adj. R-squared:                  0.300\n",
      "Method:                 Least Squares   F-statistic:                     53.27\n",
      "Date:                Fri, 31 Jan 2025   Prob (F-statistic):           3.35e-11\n",
      "Time:                        07:46:55   Log-Likelihood:                -343.68\n",
      "No. Observations:                 123   AIC:                             691.4\n",
      "Df Residuals:                     121   BIC:                             697.0\n",
      "Df Model:                           1                                         \n",
      "Covariance Type:            nonrobust                                         \n",
      "==============================================================================\n",
      "                 coef    std err          t      P>|t|      [0.025      0.975]\n",
      "------------------------------------------------------------------------------\n",
      "const        -17.1993     12.167     -1.414      0.160     -41.286       6.888\n",
      "Skull          2.8766      0.394      7.298      0.000       2.096       3.657\n",
      "==============================================================================\n",
      "Omnibus:                        0.627   Durbin-Watson:                   2.062\n",
      "Prob(Omnibus):                  0.731   Jarque-Bera (JB):                0.301\n",
      "Skew:                           0.088   Prob(JB):                        0.860\n",
      "Kurtosis:                       3.166   Cond. No.                     1.05e+03\n",
      "==============================================================================\n",
      "\n",
      "Notes:\n",
      "[1] Standard Errors assume that the covariance matrix of the errors is correctly specified.\n",
      "[2] The condition number is large, 1.05e+03. This might indicate that there are\n",
      "strong multicollinearity or other numerical problems.\n"
     ]
    }
   ],
   "source": [
    "# for this particular model formulation we need to add a \n",
    "# column of 1's to the feature array\n",
    "#add constant to predictor variables\n",
    "bluejay_x2 = sm.add_constant(bluejay_x)\n",
    "\n",
    "#fit linear regression model\n",
    "bluejay_model2 = sm.OLS(bluejay_y, bluejay_x2).fit()\n",
    "\n",
    "#view model summary\n",
    "print(bluejay_model2.summary())"
   ]
  },
  {
   "cell_type": "code",
   "execution_count": 200,
   "metadata": {},
   "outputs": [
    {
     "name": "stdout",
     "output_type": "stream",
     "text": [
      "Root Mean Squared Error: 3.9557765102170155\n"
     ]
    }
   ],
   "source": [
    "# Evaluate the model via the RMSE\n",
    "rmse = root_mean_squared_error(bluejay_y, bluejay_y_hat)\n",
    "print('Root Mean Squared Error:', rmse)\n",
    "\n"
   ]
  },
  {
   "cell_type": "markdown",
   "metadata": {},
   "source": [
    "### Multiple Regression\n",
    "Now we are going to add some predictors.  "
   ]
  },
  {
   "cell_type": "code",
   "execution_count": 201,
   "metadata": {},
   "outputs": [
    {
     "name": "stdout",
     "output_type": "stream",
     "text": [
      "Root Mean Squared Error: 3.479851526257172\n",
      "Coefficients: [ 2.44658643  2.80717324 -1.51437269]\n",
      "Intercept: -50.200115130365205\n"
     ]
    }
   ],
   "source": [
    "\n",
    "# below we build a multiple regression model with three predictors\n",
    "#  Predictors here are Head, BillDepth, and BillLength\n",
    "# Our target variable will be the Mass of the blue jay \n",
    "\n",
    "X = bluejay[['Head', 'BillDepth', 'BillLength']]  \n",
    "y = bluejay['Mass']  \n",
    "\n",
    "\n",
    "# Create a linear regression model\n",
    "blue_model = LinearRegression()\n",
    "\n",
    "# Fit the model on the  data\n",
    "blue_model.fit(X, y)\n",
    "\n",
    "# Make predictions on the  data\n",
    "y_hat = blue_model.predict(X)\n",
    "\n",
    "# Evaluate the model performance\n",
    "rmse = root_mean_squared_error(y, y_hat)\n",
    "print('Root Mean Squared Error:', rmse)\n",
    "\n",
    "# Get the coefficients and intercept\n",
    "print('Coefficients:', blue_model.coef_)\n",
    "print('Intercept:', blue_model.intercept_)"
   ]
  },
  {
   "cell_type": "code",
   "execution_count": 202,
   "metadata": {},
   "outputs": [
    {
     "data": {
      "image/png": "[encoded data removed]",
      "text/plain": [
       "<Figure size 640x480 with 1 Axes>"
      ]
     },
     "metadata": {},
     "output_type": "display_data"
    }
   ],
   "source": [
    "# below makes a residual plot\n",
    "display = PredictionErrorDisplay(y_true=y, y_pred=y_hat)\n",
    "display.plot()\n",
    "plt.show()"
   ]
  },
  {
   "cell_type": "code",
   "execution_count": 203,
   "metadata": {},
   "outputs": [
    {
     "data": {
      "image/png": "[encoded data removed]",
      "text/plain": [
       "<Figure size 640x480 with 1 Axes>"
      ]
     },
     "metadata": {},
     "output_type": "display_data"
    }
   ],
   "source": [
    "# this is code for making the qqplot\n",
    "\n",
    "\n",
    "# calculate the residuals \n",
    "bluejay_residuals = y - y_hat\n",
    "# generate the qq plot and put a line through the points to help us visualize the relationship here    \n",
    "sm.qqplot(bluejay_residuals, line ='s') \n",
    "# \n",
    "py.show() "
   ]
  },
  {
   "cell_type": "markdown",
   "metadata": {},
   "source": [
    "Both of the plots above look good, so let's look at the model summary."
   ]
  },
  {
   "cell_type": "code",
   "execution_count": 204,
   "metadata": {},
   "outputs": [
    {
     "name": "stdout",
     "output_type": "stream",
     "text": [
      "                            OLS Regression Results                            \n",
      "==============================================================================\n",
      "Dep. Variable:                   Mass   R-squared:                       0.463\n",
      "Model:                            OLS   Adj. R-squared:                  0.449\n",
      "Method:                 Least Squares   F-statistic:                     34.16\n",
      "Date:                Fri, 31 Jan 2025   Prob (F-statistic):           5.35e-16\n",
      "Time:                        07:46:56   Log-Likelihood:                -327.91\n",
      "No. Observations:                 123   AIC:                             663.8\n",
      "Df Residuals:                     119   BIC:                             675.1\n",
      "Df Model:                           3                                         \n",
      "Covariance Type:            nonrobust                                         \n",
      "==============================================================================\n",
      "                 coef    std err          t      P>|t|      [0.025      0.975]\n",
      "------------------------------------------------------------------------------\n",
      "const        -50.2001     12.237     -4.102      0.000     -74.431     -25.969\n",
      "Head           2.4466      0.361      6.775      0.000       1.732       3.162\n",
      "BillDepth      2.8072      1.010      2.779      0.006       0.807       4.807\n",
      "BillLength    -1.5144      0.480     -3.155      0.002      -2.465      -0.564\n",
      "==============================================================================\n",
      "Omnibus:                        2.022   Durbin-Watson:                   2.034\n",
      "Prob(Omnibus):                  0.364   Jarque-Bera (JB):                1.620\n",
      "Skew:                          -0.099   Prob(JB):                        0.445\n",
      "Kurtosis:                       3.526   Cond. No.                     2.36e+03\n",
      "==============================================================================\n",
      "\n",
      "Notes:\n",
      "[1] Standard Errors assume that the covariance matrix of the errors is correctly specified.\n",
      "[2] The condition number is large, 2.36e+03. This might indicate that there are\n",
      "strong multicollinearity or other numerical problems.\n"
     ]
    }
   ],
   "source": [
    "# for this particular model formulation we need to add a \n",
    "# column of 1's to the feature array\n",
    "#add constant to predictor variables\n",
    "x2 = sm.add_constant(X)\n",
    "\n",
    "#fit linear regression model using OLS\n",
    "blue_model2 = sm.OLS(y, x2).fit()\n",
    "\n",
    "#view model summary\n",
    "print(blue_model2.summary())"
   ]
  },
  {
   "cell_type": "code",
   "execution_count": 205,
   "metadata": {},
   "outputs": [
    {
     "name": "stdout",
     "output_type": "stream",
     "text": [
      "Root Mean Squared Error: 3.479851526257172\n"
     ]
    }
   ],
   "source": [
    "rmse = root_mean_squared_error(y, y_hat)\n",
    "print('Root Mean Squared Error:', rmse)"
   ]
  },
  {
   "cell_type": "markdown",
   "metadata": {},
   "source": [
    "So let's take a crack at interpretting this output.\n",
    "\n",
    "For $r^2$ we have the $46.3\\%$ of the variability in blue jay mass can be explained by the relationship with head size, bill depth and bill length.  Contrast this with $30.6\\%$ that we had for $r^2$ with the model that just had 'head' as a predictor.  So we are gaining something by adding the BillDepth and BillLength.\n",
    "\n",
    "Our RMSE here is $3.480$ g which means that the average magnitude of the difference between the predicted blue jay mass and the observed blue jay mass is $3.48$ grams.  This is better than our model with just 'head' which had an RMSE of $3.96$.  \n",
    "\n",
    "Turning to the model coefficients:\n",
    "\n",
    "Our y-intercept is estimated to be $-50.2$ which means that for a blue jay with a Bill depth of 0 mm, a bill length of 0 mm and a head size of 0mm, we would predict that their body mass would be -50.2 g.\n",
    "\n",
    "For the coefficient of head which has a value of $2.45$, we predict that for each additional mm of head size that a blue jays mass will increase by $2.45$ grams assuming that bill depth and bill length of that blue jay remain the same.\n",
    "\n",
    "Moving to *BillDepth*, assuming that head size and bill length of a blue jay are unchanged, for each additional mm of bill depth that a blue jay has, we predict that the mass of that blue jay will be increased by $2.81$ g.\n",
    "\n",
    "Lastly for each additional mm of bill length that a blue jay has, this model predicts that that blue jay's mass will decrease by $1.51$ g if the head size and bill depth are held constant. \n",
    "\n",
    "Some other notes on this output.  First all of the p-values for testing if the coefficients are zero are small so we can conclude that each of the coefficients in the model is significantly/discernibly different from zero.\n",
    "\n"
   ]
  },
  {
   "cell_type": "markdown",
   "metadata": {},
   "source": [
    "#### F-test of model utility\n",
    " \n",
    "Here is another way to evaluate the overall utility of a model.  The hypothesis being carried out here is the following:\n",
    "\n",
    "$H_0: \\beta_1 = \\beta_2 = \\beta_3 = \\ldots = \\beta_p=0$ vs. $H_a: $not $H_0$.\n",
    "\n",
    "The results for this test can be found in the output above:\n",
    "\n",
    "F-statistic:                     34.16\n",
    "\n",
    "Prob (F-statistic):           5.35e-16\n",
    "\n",
    "The p-value is represented by *Prob (F-statistic)* which here is very small, $5.35 x 10^{-16}$ and so we can reject the null hypothesis and conclude that at least one of our coefficients, our $\\beta$'s, is not zero.\n"
   ]
  },
  {
   "cell_type": "markdown",
   "metadata": {},
   "source": [
    "#### $R^2$ squared adjusted\n",
    "\n",
    "For the model above the $r^2_{adj}$ is 0.449.  By itself this is just our $r^2$ value with a small amount subtracted for having three predictors in the model.  The measure, $r^2_{adj}$ is primarily used for comparing across models, specifically when they are of different sizes, ie have different $p$'s or the number of predictors.  "
   ]
  },
  {
   "cell_type": "markdown",
   "metadata": {},
   "source": [
    "### Blue Jay models with Interaction\n",
    "\n",
    "So let's take a look at another model for predicting blue jay mass, this time we will add the variable *Sex* to the model with *BillLength* as the other predictor."
   ]
  },
  {
   "cell_type": "code",
   "execution_count": 206,
   "metadata": {},
   "outputs": [
    {
     "name": "stdout",
     "output_type": "stream",
     "text": [
      "Root Mean Squared Error: 4.260886824777064\n"
     ]
    }
   ],
   "source": [
    "# below we build a multiple regression model with three predictors\n",
    "# Those predictors are LotArea, GrLivArea and BsmtFinSF1\n",
    "# \n",
    "# Our target variable will be the SalePrice \n",
    "\n",
    "X = bluejay[['BillLength', 'Sex']]  \n",
    "y = bluejay['Mass']  \n",
    "\n",
    "\n",
    "# Create a linear regression model\n",
    "blue_model2 = LinearRegression()\n",
    "\n",
    "# Fit the model on the  data\n",
    "blue_model2.fit(X, y)\n",
    "\n",
    "# Make predictions on the  data\n",
    "y_hat = blue_model2.predict(X)\n",
    "\n",
    "# Evaluate the model\n",
    "rmse = root_mean_squared_error(y, y_hat)\n",
    "print('Root Mean Squared Error:', rmse)\n",
    "\n"
   ]
  },
  {
   "cell_type": "code",
   "execution_count": 207,
   "metadata": {},
   "outputs": [
    {
     "name": "stdout",
     "output_type": "stream",
     "text": [
      "                            OLS Regression Results                            \n",
      "==============================================================================\n",
      "Dep. Variable:                   Mass   R-squared:                       0.194\n",
      "Model:                            OLS   Adj. R-squared:                  0.181\n",
      "Method:                 Least Squares   F-statistic:                     14.48\n",
      "Date:                Fri, 31 Jan 2025   Prob (F-statistic):           2.33e-06\n",
      "Time:                        07:46:56   Log-Likelihood:                -352.82\n",
      "No. Observations:                 123   AIC:                             711.6\n",
      "Df Residuals:                     120   BIC:                             720.1\n",
      "Df Model:                           2                                         \n",
      "Covariance Type:            nonrobust                                         \n",
      "==============================================================================\n",
      "                 coef    std err          t      P>|t|      [0.025      0.975]\n",
      "------------------------------------------------------------------------------\n",
      "const         40.0083      9.604      4.166      0.000      20.993      59.024\n",
      "BillLength     1.2321      0.396      3.108      0.002       0.447       2.017\n",
      "Sex            1.8436      0.929      1.985      0.049       0.005       3.682\n",
      "==============================================================================\n",
      "Omnibus:                        0.968   Durbin-Watson:                   2.115\n",
      "Prob(Omnibus):                  0.616   Jarque-Bera (JB):                0.832\n",
      "Skew:                          -0.201   Prob(JB):                        0.660\n",
      "Kurtosis:                       2.980   Cond. No.                         616.\n",
      "==============================================================================\n",
      "\n",
      "Notes:\n",
      "[1] Standard Errors assume that the covariance matrix of the errors is correctly specified.\n"
     ]
    }
   ],
   "source": [
    "# for this particular model formulation we need to add a \n",
    "# column of 1's to the feature array\n",
    "#add constant to predictor variables\n",
    "x2 = sm.add_constant(X)\n",
    "\n",
    "#fit linear regression model\n",
    "blue_model2 = sm.OLS(y, x2).fit()\n",
    "\n",
    "#view model summary\n",
    "print(blue_model2.summary())"
   ]
  },
  {
   "cell_type": "markdown",
   "metadata": {},
   "source": [
    "So we have a model now that is really two models: one for females (*Sex ==0*) and one for males (*Sex ==1*).  \n",
    "\n",
    "Let's look at the interpretation of the coefficients.  Some of these interpretation are different due to the use of the indicator variable *Sex* here.\n",
    "\n",
    "$40.0$ here is the predicted mass of a female blue jay with a bill length of $0$ mm.  Note that when the variable *Sex* takes the value *0* that represents a female blue jay.\n",
    "\n",
    "For each additional mm of bill length for a blue jay, the predicted increase of mass of that blue jay is $1.23$ g assuming that the *Sex* of the blue jay does not change.\n",
    "\n",
    "The coefficient for the variable *Sex* represents that the predicted difference in mass between a male blue jay and a female blue jays when the blue jay has a bill length of zero mm is $1.84$.\n",
    "\n",
    "Next we will look at a model with an **interaction** term between *BillLength* and *Sex*.\n",
    "\n"
   ]
  },
  {
   "cell_type": "code",
   "execution_count": 208,
   "metadata": {},
   "outputs": [
    {
     "name": "stdout",
     "output_type": "stream",
     "text": [
      "Root Mean Squared Error: 4.1071054916789675\n"
     ]
    }
   ],
   "source": [
    "# \n",
    "# Our target variable will be the SalePrice \n",
    "bluejay['BillDepth_Sex'] = bluejay['BillDepth']*bluejay['Sex']\n",
    "\n",
    "X = bluejay[['BillDepth', 'Sex', 'BillDepth_Sex']]  \n",
    "y = bluejay['Mass']  \n",
    "\n",
    "\n",
    "# Create a linear regression model\n",
    "bluejay_model3 = LinearRegression()\n",
    "\n",
    "# Fit the model on the  data\n",
    "bluejay_model3.fit(X, y)\n",
    "\n",
    "# Make predictions on the  data\n",
    "y_hat = bluejay_model3.predict(X)\n",
    "\n",
    "# Evaluate the model\n",
    "rmse = root_mean_squared_error(y, y_hat)\n",
    "print('Root Mean Squared Error:', rmse)\n"
   ]
  },
  {
   "cell_type": "code",
   "execution_count": 209,
   "metadata": {},
   "outputs": [
    {
     "name": "stdout",
     "output_type": "stream",
     "text": [
      "                            OLS Regression Results                            \n",
      "==============================================================================\n",
      "Dep. Variable:                   Mass   R-squared:                       0.252\n",
      "Model:                            OLS   Adj. R-squared:                  0.233\n",
      "Method:                 Least Squares   F-statistic:                     13.33\n",
      "Date:                Fri, 31 Jan 2025   Prob (F-statistic):           1.47e-07\n",
      "Time:                        07:46:56   Log-Likelihood:                -348.29\n",
      "No. Observations:                 123   AIC:                             704.6\n",
      "Df Residuals:                     119   BIC:                             715.8\n",
      "Df Model:                           3                                         \n",
      "Covariance Type:            nonrobust                                         \n",
      "=================================================================================\n",
      "                    coef    std err          t      P>|t|      [0.025      0.975]\n",
      "---------------------------------------------------------------------------------\n",
      "const            20.5274     11.719      1.752      0.082      -2.678      43.733\n",
      "BillDepth         6.1504      1.461      4.209      0.000       3.257       9.044\n",
      "Sex              31.6100     20.103      1.572      0.119      -8.197      71.417\n",
      "BillDepth_Sex    -3.6532      2.423     -1.508      0.134      -8.452       1.145\n",
      "==============================================================================\n",
      "Omnibus:                        3.818   Durbin-Watson:                   2.292\n",
      "Prob(Omnibus):                  0.148   Jarque-Bera (JB):                3.638\n",
      "Skew:                          -0.421   Prob(JB):                        0.162\n",
      "Kurtosis:                       2.973   Cond. No.                         556.\n",
      "==============================================================================\n",
      "\n",
      "Notes:\n",
      "[1] Standard Errors assume that the covariance matrix of the errors is correctly specified.\n"
     ]
    }
   ],
   "source": [
    "# for this particular model formulation we need to add a \n",
    "# column of 1's to the feature array\n",
    "#add constant to predictor variables\n",
    "x2 = sm.add_constant(X)\n",
    "\n",
    "#fit linear regression model\n",
    "blue_model3 = sm.OLS(y, x2).fit()\n",
    "\n",
    "#view model summary\n",
    "print(blue_model3.summary())"
   ]
  },
  {
   "cell_type": "markdown",
   "metadata": {},
   "source": [
    "So some things to look in this output.  The coefficients for the variables *Sex* and the interaction term *BillDepth_Sex* are not \n",
    "discernibly different from zero.  So we might consider dropping them from the model, though when we fit the model without *BillDepth_Sex* the coefficient for *Sex* is significant if barely.\n",
    "\n",
    "To add to the discussion, the smaller model above has a noticeably smaller $r^2$ and $r^2_{adj}$ so that the\n",
    "fuller model with the interaction term is generally performing better --- lower RMSE too --- than \n",
    "the model without the interaction. \n",
    "\n",
    "This is where modelling becomes harder.  As we have more and more features to consider, finding the right combination of\n",
    "features to make a good model is important.  More to come."
   ]
  },
  {
   "cell_type": "markdown",
   "metadata": {},
   "source": [
    "### Tasks\n",
    "\n",
    "1. Using the Blue Jays data, fit a regression model to predict body mass using *Sex* and *Skull*.  Make the residual plot and the QQplot.  Determine if the linear model is appropriate for these data."
   ]
  },
  {
   "cell_type": "markdown",
   "metadata": {},
   "source": [
    "2. Using the regression that you created in Task 1, find and interpret the $r^2$ and the $RMSE$ values."
   ]
  },
  {
   "cell_type": "markdown",
   "metadata": {},
   "source": [
    "3. Using the regression that you created in Task 1, find and interpret all of the coefficients for this model."
   ]
  },
  {
   "cell_type": "markdown",
   "metadata": {},
   "source": [
    "4. Predict the body mass of a male blue jay with a Skull size of 31 mm."
   ]
  },
  {
   "cell_type": "markdown",
   "metadata": {},
   "source": [
    "5. Predict the body mass of a female blue jay with a Skull size of 31 mm."
   ]
  },
  {
   "cell_type": "markdown",
   "metadata": {},
   "source": [
    "6. What is the difference in your predictions from Task 4 and Task 5. "
   ]
  },
  {
   "cell_type": "markdown",
   "metadata": {},
   "source": [
    "7. Create a new variable that is an interaction between *Sex* and *Skull*.  Create a model with this new variable added to the terms in the model from Task 1."
   ]
  },
  {
   "cell_type": "markdown",
   "metadata": {},
   "source": [
    "8. Interpret the coefficients for the model you make in Task 4."
   ]
  },
  {
   "cell_type": "markdown",
   "metadata": {},
   "source": [
    "9. Based upon $r^2_{adj}$ which model is best from among those in this notebook for predicting blue jay mass. "
   ]
  },
  {
   "cell_type": "markdown",
   "metadata": {},
   "source": [
    "10. Based upon RMSE which model is best from among those in the notebook for predicting blue jay mass"
   ]
  },
  {
   "cell_type": "markdown",
   "metadata": {},
   "source": [
    "11.  For the model in you fit in Task 4, which of the predictors were statistically discernible from zero?  How do you know?  What does this tell you about the value of those predictors?"
   ]
  },
  {
   "cell_type": "markdown",
   "metadata": {},
   "source": [
    "12.  What are the p-value and your conclusions from an F-test of model utility for the model you fit in Task 4?  How does that connect with your answers in Task 7."
   ]
  }
 ],
 "metadata": {
  "kernelspec": {
   "display_name": "Python 3",
   "language": "python",
   "name": "python3"
  },
  "language_info": {
   "codemirror_mode": {
    "name": "ipython",
    "version": 3
   },
   "file_extension": ".py",
   "mimetype": "text/x-python",
   "name": "python",
   "nbconvert_exporter": "python",
   "pygments_lexer": "ipython3",
   "version": "3.13.1"
  }
 },
 "nbformat": 4,
 "nbformat_minor": 2
}
