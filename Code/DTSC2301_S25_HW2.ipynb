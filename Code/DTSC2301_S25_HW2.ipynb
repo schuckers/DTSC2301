{
  "cells": [
    {
      "cell_type": "markdown",
      "metadata": {
        "id": "izKqG6OvCt21"
      },
      "source": [
        "## DTSC 2301 Spring 2025 Homework #2\n",
        "\n",
        "Turn in your assignment via Gradescope\n",
        "\n",
        "Due 1/24/25, 11:59pm\n",
        "\n",
        "For this assignment you may *not* use any generative AI and you may only use python commands and code we used in class."
      ]
    },
    {
      "cell_type": "markdown",
      "metadata": {
        "id": "_-BP6mfTCt23"
      },
      "source": [
        "#### Question 1\n"
      ]
    },
    {
      "cell_type": "markdown",
      "metadata": {
        "id": "_WPg6MJAD-0P"
      },
      "source": [
        "#### Question 2\n",
        "  "
      ]
    },
    {
      "cell_type": "markdown",
      "metadata": {
        "id": "QDh-l3nRCt24"
      },
      "source": [
        "#### Question 3\n"
      ]
    },
    {
      "cell_type": "markdown",
      "metadata": {
        "id": "9RFOSK4WCt25"
      },
      "source": [
        "#### Question 4\n"
      ]
    },
    {
      "cell_type": "markdown",
      "metadata": {
        "id": "cfr3iDgzCt26"
      },
      "source": [
        "#### Question 5\n",
        "\n"
      ]
    }
  ],
  "metadata": {
    "colab": {
      "provenance": []
    },
    "kernelspec": {
      "display_name": "base",
      "language": "python",
      "name": "python3"
    },
    "language_info": {
      "codemirror_mode": {
        "name": "ipython",
        "version": 3
      },
      "file_extension": ".py",
      "mimetype": "text/x-python",
      "name": "python",
      "nbconvert_exporter": "python",
      "pygments_lexer": "ipython3",
      "version": "3.12.7"
    }
  },
  "nbformat": 4,
  "nbformat_minor": 0
}
