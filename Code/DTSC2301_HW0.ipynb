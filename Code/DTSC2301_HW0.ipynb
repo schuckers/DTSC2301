{
 "cells": [
  {
   "cell_type": "markdown",
   "metadata": {},
   "source": [
    "### DTSC 2301 Homework #0\n",
    "\n",
    "Due Never\n",
    "\n",
    "Test file for class on 15 Jan 2025 \n",
    "\n",
    "In a chunk below this, enter your name as it appears on the roster and the name by which you wish to be address if different."
   ]
  }
 ],
 "metadata": {
  "language_info": {
   "name": "python"
  }
 },
 "nbformat": 4,
 "nbformat_minor": 2
}
