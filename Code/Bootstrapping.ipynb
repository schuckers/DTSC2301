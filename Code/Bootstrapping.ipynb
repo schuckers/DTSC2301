{
 "cells": [
  {
   "cell_type": "markdown",
   "metadata": {},
   "source": [
    "## Bootstrapping\n",
    "Bootstrapping is a frequently used technique to generate inferential quantities, confidence intervals and p-values.  The exciting thing about the bootstrap is that it is very flexible and can be used in many, many circumstances since it makes fewer assumptions than other types of tests.  Formally the bootstrap is about understanding the sampling distribution of a statistic (like the mean or the standard deviation) and, in particularly, how much variability there is in the statistic due to the sampling process.  To get estimates of this variability, we will approximate the sampling process.  \n",
    "\n",
    "The basic steps of the bootstrap: \n",
    "1. Define and calculate the statistic of interest\n",
    "2. Resample the data with replacement many times, calculate and store the statistic of interest each time\n",
    "3. Use the percentiles of the stored values to make inference"
   ]
  },
  {
   "cell_type": "code",
   "execution_count": 9,
   "metadata": {},
   "outputs": [],
   "source": [
    "# Load in packages we need for doing graphical representations.  \n",
    "from pathlib import Path\n",
    "import pandas as pd\n",
    "\n",
    "import matplotlib.pyplot as plt\n",
    "import numpy as np\n",
    "\n",
    "from matplotlib import colors\n",
    "\n",
    "import scipy.stats as stats"
   ]
  },
  {
   "cell_type": "markdown",
   "metadata": {},
   "source": [
    "We will motivate this by using some data on Penguins.  Some details about the data can be found here: https://allisonhorst.github.io/palmerpenguins/.  "
   ]
  },
  {
   "cell_type": "code",
   "execution_count": 10,
   "metadata": {},
   "outputs": [
    {
     "data": {
      "text/html": [
       "<div>\n",
       "<style scoped>\n",
       "    .dataframe tbody tr th:only-of-type {\n",
       "        vertical-align: middle;\n",
       "    }\n",
       "\n",
       "    .dataframe tbody tr th {\n",
       "        vertical-align: top;\n",
       "    }\n",
       "\n",
       "    .dataframe thead th {\n",
       "        text-align: right;\n",
       "    }\n",
       "</style>\n",
       "<table border=\"1\" class=\"dataframe\">\n",
       "  <thead>\n",
       "    <tr style=\"text-align: right;\">\n",
       "      <th></th>\n",
       "      <th>species</th>\n",
       "      <th>island</th>\n",
       "      <th>bill_length_mm</th>\n",
       "      <th>bill_depth_mm</th>\n",
       "      <th>flipper_length_mm</th>\n",
       "      <th>body_mass_g</th>\n",
       "      <th>sex</th>\n",
       "      <th>year</th>\n",
       "    </tr>\n",
       "  </thead>\n",
       "  <tbody>\n",
       "    <tr>\n",
       "      <th>0</th>\n",
       "      <td>Adelie</td>\n",
       "      <td>Torgersen</td>\n",
       "      <td>39.1</td>\n",
       "      <td>18.7</td>\n",
       "      <td>181.0</td>\n",
       "      <td>3750.0</td>\n",
       "      <td>male</td>\n",
       "      <td>2007</td>\n",
       "    </tr>\n",
       "    <tr>\n",
       "      <th>1</th>\n",
       "      <td>Adelie</td>\n",
       "      <td>Torgersen</td>\n",
       "      <td>39.5</td>\n",
       "      <td>17.4</td>\n",
       "      <td>186.0</td>\n",
       "      <td>3800.0</td>\n",
       "      <td>female</td>\n",
       "      <td>2007</td>\n",
       "    </tr>\n",
       "    <tr>\n",
       "      <th>2</th>\n",
       "      <td>Adelie</td>\n",
       "      <td>Torgersen</td>\n",
       "      <td>40.3</td>\n",
       "      <td>18.0</td>\n",
       "      <td>195.0</td>\n",
       "      <td>3250.0</td>\n",
       "      <td>female</td>\n",
       "      <td>2007</td>\n",
       "    </tr>\n",
       "    <tr>\n",
       "      <th>4</th>\n",
       "      <td>Adelie</td>\n",
       "      <td>Torgersen</td>\n",
       "      <td>36.7</td>\n",
       "      <td>19.3</td>\n",
       "      <td>193.0</td>\n",
       "      <td>3450.0</td>\n",
       "      <td>female</td>\n",
       "      <td>2007</td>\n",
       "    </tr>\n",
       "    <tr>\n",
       "      <th>5</th>\n",
       "      <td>Adelie</td>\n",
       "      <td>Torgersen</td>\n",
       "      <td>39.3</td>\n",
       "      <td>20.6</td>\n",
       "      <td>190.0</td>\n",
       "      <td>3650.0</td>\n",
       "      <td>male</td>\n",
       "      <td>2007</td>\n",
       "    </tr>\n",
       "  </tbody>\n",
       "</table>\n",
       "</div>"
      ],
      "text/plain": [
       "  species     island  bill_length_mm  bill_depth_mm  flipper_length_mm  \\\n",
       "0  Adelie  Torgersen            39.1           18.7              181.0   \n",
       "1  Adelie  Torgersen            39.5           17.4              186.0   \n",
       "2  Adelie  Torgersen            40.3           18.0              195.0   \n",
       "4  Adelie  Torgersen            36.7           19.3              193.0   \n",
       "5  Adelie  Torgersen            39.3           20.6              190.0   \n",
       "\n",
       "   body_mass_g     sex  year  \n",
       "0       3750.0    male  2007  \n",
       "1       3800.0  female  2007  \n",
       "2       3250.0  female  2007  \n",
       "4       3450.0  female  2007  \n",
       "5       3650.0    male  2007  "
      ]
     },
     "execution_count": 10,
     "metadata": {},
     "output_type": "execute_result"
    }
   ],
   "source": [
    "# read in the data to dataframe called ames\n",
    "penguins = pd.read_csv(\"https://webpages.charlotte.edu/mschuck1/classes/DTSC2301/Data/penguins.csv\", na_values=['NA'])\n",
    "# remove rows with missing data\n",
    "penguins.dropna(inplace=True)\n",
    "penguins.head()"
   ]
  },
  {
   "cell_type": "markdown",
   "metadata": {},
   "source": [
    "Body mass, *body_mass_g*, is a measure of overall species health that is sometimes used, so we'll start by focusing on that.  And we'll bootstrap and calculate the mean body mass for these penguins.   "
   ]
  },
  {
   "cell_type": "code",
   "execution_count": 12,
   "metadata": {},
   "outputs": [
    {
     "name": "stdout",
     "output_type": "stream",
     "text": [
      "Mean Body Mass in the original data is 4207.057057057057\n",
      "Average of the bootstrapped means is 4208.672882882883\n",
      "Standard deviation of the bootstrapped means is 44.20500443759891\n"
     ]
    }
   ],
   "source": [
    "# set the random seed, we'll come back to this\n",
    "np.random.seed(123)\n",
    "#make a object that is just the body mass of the penguins\n",
    "body_mass=penguins['body_mass_g']\n",
    "mean_body_mass = np.mean(body_mass)\n",
    "print(\"Mean Body Mass in the original data is\", np.mean(body_mass))\n",
    "# get and store the total number of \n",
    "n_penguins=len(body_mass)\n",
    "rows = list(range(1, n_penguins))\n",
    "# n_reps is the number of bootstrap replicates \n",
    "n_reps = 5000\n",
    "\n",
    "# create an empty array to store the calculated means\n",
    "boot_means = []\n",
    "# loop through taking a sample and calculating a mean from the sample n_reps times\n",
    "for i in range(n_reps):\n",
    "  # create a sample with replacement of size n_penguins from body_mass\n",
    "  random_out = np.random.choice(rows, n_penguins)\n",
    "  bms=body_mass.iloc[random_out]\n",
    "  # calculate the mean of the values in bms and save in avg\n",
    "  avg = np.mean(bms)\n",
    "  # add avg to the list of other bootstrapped means\n",
    "  boot_means.append(avg)\n",
    "\n",
    "# print the average of the bootstrapped means, boot_means\n",
    "print(\"Average of the bootstrapped means is\", np.mean(boot_means))\n",
    "# print the standard deviation of the bootstrapped means\n",
    "print(\"Standard deviation of the bootstrapped means is\", np.std(boot_means))"
   ]
  },
  {
   "cell_type": "markdown",
   "metadata": {},
   "source": [
    "We can next make a confidence interval based upon the bootstrapped means, *boot_means*, that we got as part of this process."
   ]
  },
  {
   "cell_type": "code",
   "execution_count": 4,
   "metadata": {},
   "outputs": [
    {
     "data": {
      "text/plain": [
       "array([4121.32132132, 4294.22484985])"
      ]
     },
     "execution_count": 4,
     "metadata": {},
     "output_type": "execute_result"
    }
   ],
   "source": [
    "# take the 2.5th percentile and the 97.5th percentile of the bootstrapped means to make a 95% confidence interval\n",
    "np.percentile(boot_means,(2.5, 97.5))"
   ]
  },
  {
   "cell_type": "markdown",
   "metadata": {},
   "source": [
    "We get a 95% confidence interval for the mean body mass of all penguins to be between 4121.3g and 4294.2g.\n",
    "\n",
    "Now for statistics like the mean (and proportion) whose behavior we --- we being statisticians and now you--- understand well, we get very similar results from the bootstrap as compared to the other methods we have done.  \n",
    "\n",
    "Here's the confidence interval for the mean that we did previously.  "
   ]
  },
  {
   "cell_type": "code",
   "execution_count": 5,
   "metadata": {},
   "outputs": [
    {
     "name": "stdout",
     "output_type": "stream",
     "text": [
      "4120.256132623127 4293.857981490987\n"
     ]
    }
   ],
   "source": [
    "lower, upper = stats.t.interval(confidence=0.95, \n",
    "              df=len(body_mass)-1, \n",
    "              loc=np.mean(body_mass),  \n",
    "              scale=stats.sem(body_mass))\n",
    "print(lower, upper)"
   ]
  },
  {
   "cell_type": "markdown",
   "metadata": {},
   "source": [
    "Note how similar the bootstrapped confidence interval is to the traditional confidence interval.  Of course, you can't do bootstrapped confidence intervals without computing.  "
   ]
  },
  {
   "cell_type": "markdown",
   "metadata": {},
   "source": [
    "## Bootstrapping Proportions\n",
    "\n",
    "We are going to do the same process that we did for the mean for the proportion of penguins with a body mass over 3500g.  This time we will do a hypothesis test.  "
   ]
  },
  {
   "cell_type": "code",
   "execution_count": null,
   "metadata": {},
   "outputs": [
    {
     "name": "stdout",
     "output_type": "stream",
     "text": [
      "258\n",
      "333\n",
      "0.7751573573573575\n",
      "0.022830323020816425\n"
     ]
    }
   ],
   "source": [
    "# create a variable big which is a 1 if body_mass >3500, and 0 otherwise.\n",
    "# (body_mass>3500) creates an array of True's and False's\n",
    "# by multiplying by 1, the True's and False's get converted to 1's and 0's respectively\n",
    "big = (body_mass>3500)*1\n",
    "# print the number of penguins in the sample with body_mass >3500\n",
    "print(sum(big))\n",
    "# set the random seed, we'll come back to this\n",
    "np.random.seed(123)\n",
    "\n",
    "# get and store the total number of \n",
    "n_penguins=len(big)\n",
    "#print the total number of penguins in the sample.  \n",
    "print(n_penguins)\n",
    "# n_reps is the number of bootstrap replicates \n",
    "n_reps = 5000\n",
    "\n",
    "# create an empty array to store the calculated means\n",
    "boot_prop = []\n",
    "# loop through taking a sample and calculating a mean from the sample n_reps times\n",
    "for i in range(n_reps):\n",
    "  # create a sample with replacement of size n_penguins from body_mass\n",
    "  bms = np.random.choice(big.tolist(), n_penguins)\n",
    "  # calculate the mean of the values in bms and save in avg\n",
    "  avg = np.mean(bms)\n",
    "  # add avg to the list of other bootstrapped means\n",
    "  boot_prop.append(avg)\n",
    "\n",
    "# print the average of the bootstrapped means, boot_means\n",
    "print(np.mean(boot_prop))\n",
    "# print the standard deviation of the bootstrapped means\n",
    "print(np.std(boot_prop))"
   ]
  },
  {
   "cell_type": "markdown",
   "metadata": {},
   "source": [
    "Now the values above which is the mean of the bootstrapped proportions, $0.7752$, and the standard deviation of the bootstrapped proportions, $0.0228$ should be close to the proportion in the sample ($\\hat{p}$ =258/333 = 0.7748) and the standard error of the proportion which is $\\sqrt{\\hat{p}(1-\\hat{p})/n}$ = 0.0229.  You may recall that the definition of the standard errors is the standard deviation of the sampling distribution of the statistic.  \n",
    " "
   ]
  },
  {
   "cell_type": "markdown",
   "metadata": {},
   "source": [
    "Now suppose we want to test whether more than 75% of all penguins have body mass more than 3500g.  Formally we are testing $H_0: p = 0.75$ vs $H_a: p>0.75$.  Hypothesis testing is slightly different than making a confidence interval because the p-value is based upon an assumption the the null hypothesis is true so there is an adjustment that is made to the distribution of bootstrapped proportions to make sure their mean is the value in the null hypothesis, here that is $0.75$.  "
   ]
  },
  {
   "cell_type": "code",
   "execution_count": 7,
   "metadata": {},
   "outputs": [
    {
     "name": "stdout",
     "output_type": "stream",
     "text": [
      "0.1332\n"
     ]
    }
   ],
   "source": [
    "# here is the adjustment for boot_prop\n",
    "boot_prop_adjusted = boot_prop - (np.mean(boot_prop)-0.75)\n",
    "# then the p-value is the proportion of n_reps that is more than our sample proportion which was 258/333.\n",
    "p_value = sum((boot_prop_adjusted>258/333)*1)/n_reps\n",
    "print(p_value)"
   ]
  },
  {
   "cell_type": "markdown",
   "metadata": {},
   "source": [
    "Since our p-value is large (0.1332), we fail to reject the null hypothesis that the proportion of penguins with body mass more tham 3500g is 75%.  "
   ]
  },
  {
   "cell_type": "markdown",
   "metadata": {},
   "source": [
    "## random.seed\n",
    "Above we used the command _np.random.seed(123)_ this was a way of ensuring the our randomization was consistent --- identically consistent across all uses.  Randomization is tricky process and so we often want to ensure that we have a process that is repeatable and we can do that by setting the 'seed' of the randomization.  That is the reason that I got the same values from the bootstrap above that you got.  A seed can be any integar.  I like to use the date, e.g. 20250115, as my seed but that is personal preference.  \n",
    "\n",
    "One of the biggest uses for random seed is to ensure that two analyses are done identically and that the results are reproducible.  Let's try re-running the code from above with a new seed in the second line.\n",
    "\n",
    "*BEFORE RUNNING THE NEXT SET OF CODE, PUT AN INTEGAR INSIDE THE  ( )'S IN THE COMMAND _np.random.seed()*"
   ]
  },
  {
   "cell_type": "code",
   "execution_count": null,
   "metadata": {},
   "outputs": [
    {
     "name": "stdout",
     "output_type": "stream",
     "text": [
      "0.7748924924924925\n",
      "0.022815168496751383\n"
     ]
    }
   ],
   "source": [
    "# ENTER A NEW SEED HERE BEFORE RUNNING THIS CODE\n",
    "np.random.seed(2025)\n",
    "\n",
    "# get and store the total number of \n",
    "n_penguins=len(big)\n",
    "#print the total number of penguins in the sample.  \n",
    "#print(n_penguins)\n",
    "# n_reps is the number of bootstrap replicates \n",
    "n_reps = 5000\n",
    "\n",
    "# create an empty array to store the calculated means\n",
    "boot_prop = []\n",
    "# loop through taking a sample and calculating a mean from the sample n_reps times\n",
    "for i in range(n_reps):\n",
    "  # create a sample with replacement of size n_penguins from body_mass\n",
    "  bms = np.random.choice(big.tolist(), n_penguins)\n",
    "  # calculate the mean of the values in bms and save in avg\n",
    "  avg = np.mean(bms)\n",
    "  # add avg to the list of other bootstrapped means\n",
    "  boot_prop.append(avg)\n",
    "\n",
    "# print the average of the bootstrapped means, boot_means\n",
    "print(np.mean(boot_prop))\n",
    "# print the standard deviation of the bootstrapped means\n",
    "print(np.std(boot_prop))"
   ]
  },
  {
   "cell_type": "markdown",
   "metadata": {},
   "source": [
    "A couple of chunks back, our output when we used _random.seed(123)_ was the following:\n",
    "\n",
    "0.7751573573573575\n",
    "\n",
    "0.022830323020816425\n",
    "\n",
    "Now with a different random seed we get slightly different values.  Keeping the seed the same and rerunning the code, you get the the same output. \n",
    "\n",
    "Trying changing the seed again and rerunning the code.  This time you should get a slightly different output.   "
   ]
  },
  {
   "cell_type": "markdown",
   "metadata": {},
   "source": [
    "Tasks\n",
    "\n",
    "1. Create a 96% confidence interval for mean flipper length, *flipper_length_mm*, from these penguins data using both the traditional confidence interval methodology and the bootstrap methodology.  Compare the resulting intervals.\n",
    "\n",
    "\n",
    "2. Create a 95% confidence interval for median body mass from these penguins data using bootstrapping.\n",
    "\n",
    "3. Create a 90% confidence interval for the IQR, 75th percentile minus the 25th percentile, of body mass of penguins using bootstrapping."
   ]
  }
 ],
 "metadata": {
  "kernelspec": {
   "display_name": "Python 3",
   "language": "python",
   "name": "python3"
  },
  "language_info": {
   "codemirror_mode": {
    "name": "ipython",
    "version": 3
   },
   "file_extension": ".py",
   "mimetype": "text/x-python",
   "name": "python",
   "nbconvert_exporter": "python",
   "pygments_lexer": "ipython3",
   "version": "3.13.1"
  }
 },
 "nbformat": 4,
 "nbformat_minor": 2
}
