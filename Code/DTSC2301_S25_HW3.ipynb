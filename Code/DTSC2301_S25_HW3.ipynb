{
  "cells": [
    {
      "cell_type": "markdown",
      "metadata": {
        "id": "izKqG6OvCt21"
      },
      "source": [
        "## DTSC 2301 Spring 2025 Homework #3\n",
        "\n",
        "Turn in your assignment via Gradescope\n",
        "\n",
        "Due 2/1/25, 5:00pm\n",
        "\n",
        "For this assignment you may *not* use any generative AI and you may only use python commands and code we used in class."
      ]
    },
    {
      "cell_type": "markdown",
      "metadata": {
        "vscode": {
          "languageId": "plaintext"
        }
      },
      "source": [
        "#### Question 1\n",
        "\n",
        "For this questions, we will analyze some data regarding players from the National Hockey League for the 2019 season and the 2020 season.  \n",
        "Here's the link to that data \n",
        "[<https://webpages.charlotte.edu/mschuck1/classes/DTSC2301/Data/NHLShootingPct.csv>].  \n",
        "Note that the data is only for even-strength situations when each team has the same number of skaters on the ice.\n",
        "  \n",
        "From these data run a regression predicting the number of shots a player got in 2020, *Shots2020*, from the number of shots that they \n",
        "took in 2019, *Shots2019*.  Find the $r$, $r^2$ and the $RMSE$.  Interpret each of those.\n"
      ]
    },
    {
      "cell_type": "markdown",
      "metadata": {},
      "source": [
        "#### Question 2\n",
        "For this questions, use the data from Question 1.  Create a 95% confidence interval for the correlation in Question 1 by bootstrapping the rows of the data.  That is, your bootstrapping should select rows rather than individual measurements.  Here is some *updated* code for the bootstrap loop that will be helpful.\n"
      ]
    },
    {
      "cell_type": "code",
      "execution_count": null,
      "metadata": {},
      "outputs": [],
      "source": [
        "\n",
        "for i in range(n_reps):\n",
        "  # create a sample with replacement of size n_penguins from body_mass\n",
        "  random_out = np.random.choice(rows, n_penguins)\n",
        "  bms=body_mass.iloc[random_out]\n",
        "  # calculate the mean of the values in bms and save in avg\n",
        "  avg = np.mean(bms)\n",
        "  # add avg to the list of other bootstrapped means\n",
        "  boot_means.append(avg)"
      ]
    },
    {
      "cell_type": "markdown",
      "metadata": {},
      "source": [
        "#### Question 3\n",
        "Again using the data from Question 1, create and interpret a $90\\%$ confidence interval for the slope of the regression line for using shooting percentage in 2019, *Sh2019*, to predict shooting percentage in 2020, *Sh2020*, in the context of these data.  Shooting percentage is the percentage of shots that are goals, i.e the ratio of goals to (goals + shots).  "
      ]
    },
    {
      "cell_type": "markdown",
      "metadata": {
        "id": "cfr3iDgzCt26"
      },
      "source": [
        "#### Question 4\n",
        "You want to choose the best feature to predict *Goals2020* from among *Goals2019*, *Sh2019*, and *Shots2019*.  How would you decide which of these is the best predictor of *Goals2020*?  Explain clearly why you would choose that methodology"
      ]
    },
    {
      "cell_type": "markdown",
      "metadata": {},
      "source": [
        "#### Question 5\n",
        "Suppose we want to use a linear regression with *Sh2019* as the feature and  *Goals2020* as the target.  Evaluate whether or not a linear regression model is appropriate for that task.  Explain clearly why or why not."
      ]
    },
    {
      "cell_type": "markdown",
      "metadata": {},
      "source": [
        "#### Question 6\n",
        "\n",
        "**Be sure that your response is fully readable in your submission**\n",
        "\n",
        "Sports executives use predictive modeling to maximize success of the team with minimal investment. Given the transparency and abundance of performance data, write a short 80-120 word paragraph explaining how bias can be introduced in sports models, and how introducing bias can affect conclusions? "
      ]
    },
    {
      "cell_type": "markdown",
      "metadata": {},
      "source": [
        "#### Question 7\n",
        "\n",
        "**Be sure that your response is fully readable in your submission**\n",
        "\n",
        "What strategies can be employed to mitigate the biases you discussed in Question 6?\""
      ]
    }
  ],
  "metadata": {
    "colab": {
      "provenance": []
    },
    "kernelspec": {
      "display_name": "Python 3",
      "language": "python",
      "name": "python3"
    },
    "language_info": {
      "codemirror_mode": {
        "name": "ipython",
        "version": 3
      },
      "file_extension": ".py",
      "mimetype": "text/x-python",
      "name": "python",
      "nbconvert_exporter": "python",
      "pygments_lexer": "ipython3",
      "version": "3.13.1"
    }
  },
  "nbformat": 4,
  "nbformat_minor": 0
}
