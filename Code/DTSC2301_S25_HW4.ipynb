{
  "cells": [
    {
      "cell_type": "markdown",
      "metadata": {
        "id": "izKqG6OvCt21"
      },
      "source": [
        "## DTSC 2301 Spring 2025 Homework #4\n",
        "\n",
        "Turn in your assignment via Gradescope\n",
        "\n",
        "Due 2/14/25, 10:59pm\n",
        "\n",
        "For this assignment you may *not* use any generative AI and you may only use python commands and code we used in class."
      ]
    },
    {
      "cell_type": "markdown",
      "metadata": {
        "vscode": {
          "languageId": "plaintext"
        }
      },
      "source": [
        "#### Question 1\n",
        "\n",
        "For the Ames Housing Data [<https://webpages.charlotte.edu/mschuck1/classes/DTSC2301/Data/Ames_house_prices.csv>], \n",
        "fit a linear model that predicts the *SalePrice* of a house from the *GarageArea*.   Evaluate whether or not\n",
        "a linear model is appropriate for the relationship between these two features.\n"
      ]
    },
    {
      "cell_type": "markdown",
      "metadata": {},
      "source": [
        "### Question 2\n",
        "\n",
        "What are the limitations of the model that you generated in the previous question?  Why is it important to be transparent about the limitations and assumptions of your model?"
      ]
    },
    {
      "cell_type": "markdown",
      "metadata": {},
      "source": [
        "#### Question 3\n",
        "Using the same data and variables from Question 1, fit a cubic spline with knots at 300, 600 and 900.  PLot\n",
        "that spline on a scatterplot of the data. "
      ]
    },
    {
      "cell_type": "markdown",
      "metadata": {
        "vscode": {
          "languageId": "plaintext"
        }
      },
      "source": [
        "#### Question 4\n",
        "Find and compare the RMSE's of the models from Questions 1 and 3.  Comment on which model is the best among these."
      ]
    }
  ],
  "metadata": {
    "colab": {
      "provenance": []
    },
    "kernelspec": {
      "display_name": "Python 3",
      "language": "python",
      "name": "python3"
    },
    "language_info": {
      "codemirror_mode": {
        "name": "ipython",
        "version": 3
      },
      "file_extension": ".py",
      "mimetype": "text/x-python",
      "name": "python",
      "nbconvert_exporter": "python",
      "pygments_lexer": "ipython3",
      "version": "3.13.1"
    }
  },
  "nbformat": 4,
  "nbformat_minor": 0
}
